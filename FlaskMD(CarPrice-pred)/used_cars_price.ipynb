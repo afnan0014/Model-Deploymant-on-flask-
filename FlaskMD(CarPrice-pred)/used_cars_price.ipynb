{
 "cells": [
  {
   "cell_type": "markdown",
   "metadata": {
    "id": "OhEkG0FvG1AJ"
   },
   "source": [
    "# 1.Introduction"
   ]
  },
  {
   "cell_type": "markdown",
   "metadata": {
    "id": "hE6NTZKtG7iJ"
   },
   "source": [
    "This project focuses on predicting car prices using a RandomForestRegressor model. The workflow begins with data inspection, cleaning, and visualization to understand feature distributions and correlations. After preprocessing and applying log transformation to reduce skewness, label encoding is used to convert categorical features for modeling. The dataset is then split, and the model is trained and evaluated based on mean squared error, mean absolute error, and R-squared metrics. Results indicate a reasonable fit, with potential improvements through hyperparameter tuning and additional feature engineering."
   ]
  },
  {
   "cell_type": "markdown",
   "metadata": {
    "id": "uFYk8wG4G5G7"
   },
   "source": [
    "# 2. Data Analysis and Preprocessing"
   ]
  },
  {
   "cell_type": "code",
   "execution_count": 2,
   "metadata": {
    "executionInfo": {
     "elapsed": 3514,
     "status": "ok",
     "timestamp": 1734324740172,
     "user": {
      "displayName": "Muhammed Afnan",
      "userId": "02362605953525826732"
     },
     "user_tz": -330
    },
    "id": "bkeeJFcnDyys"
   },
   "outputs": [],
   "source": [
    "import numpy as np\n",
    "import pandas as pd\n",
    "import matplotlib.pyplot as plt\n",
    "import seaborn as sns"
   ]
  },
  {
   "cell_type": "code",
   "execution_count": 3,
   "metadata": {
    "colab": {
     "base_uri": "https://localhost:8080/",
     "height": 304
    },
    "executionInfo": {
     "elapsed": 710,
     "status": "error",
     "timestamp": 1734324921897,
     "user": {
      "displayName": "Muhammed Afnan",
      "userId": "02362605953525826732"
     },
     "user_tz": -330
    },
    "id": "LGu5EOUuLPPy",
    "outputId": "38d3e1cb-ec18-4ab3-be2c-881b16031b9f"
   },
   "outputs": [
    {
     "data": {
      "text/html": [
       "<div>\n",
       "<style scoped>\n",
       "    .dataframe tbody tr th:only-of-type {\n",
       "        vertical-align: middle;\n",
       "    }\n",
       "\n",
       "    .dataframe tbody tr th {\n",
       "        vertical-align: top;\n",
       "    }\n",
       "\n",
       "    .dataframe thead th {\n",
       "        text-align: right;\n",
       "    }\n",
       "</style>\n",
       "<table border=\"1\" class=\"dataframe\">\n",
       "  <thead>\n",
       "    <tr style=\"text-align: right;\">\n",
       "      <th></th>\n",
       "      <th>Unnamed: 0</th>\n",
       "      <th>car_brand</th>\n",
       "      <th>car_model</th>\n",
       "      <th>car_price</th>\n",
       "      <th>car_city</th>\n",
       "      <th>car_fuel</th>\n",
       "      <th>car_transmission</th>\n",
       "      <th>car_drive</th>\n",
       "      <th>car_mileage</th>\n",
       "      <th>car_country</th>\n",
       "      <th>car_engine_capacity</th>\n",
       "      <th>car_engine_hp</th>\n",
       "      <th>car_age</th>\n",
       "    </tr>\n",
       "  </thead>\n",
       "  <tbody>\n",
       "    <tr>\n",
       "      <th>0</th>\n",
       "      <td>0</td>\n",
       "      <td>Ford</td>\n",
       "      <td>Focus</td>\n",
       "      <td>550000</td>\n",
       "      <td>Astrakhan</td>\n",
       "      <td>gasoline</td>\n",
       "      <td>manual</td>\n",
       "      <td>FWD</td>\n",
       "      <td>300000</td>\n",
       "      <td>USA</td>\n",
       "      <td>1.8</td>\n",
       "      <td>125</td>\n",
       "      <td>14</td>\n",
       "    </tr>\n",
       "    <tr>\n",
       "      <th>1</th>\n",
       "      <td>1</td>\n",
       "      <td>Mercedes-Benz</td>\n",
       "      <td>GLA-Class</td>\n",
       "      <td>1820000</td>\n",
       "      <td>Astrakhan</td>\n",
       "      <td>gasoline</td>\n",
       "      <td>robot</td>\n",
       "      <td>FWD</td>\n",
       "      <td>88000</td>\n",
       "      <td>DE</td>\n",
       "      <td>1.6</td>\n",
       "      <td>156</td>\n",
       "      <td>10</td>\n",
       "    </tr>\n",
       "    <tr>\n",
       "      <th>2</th>\n",
       "      <td>2</td>\n",
       "      <td>Haval</td>\n",
       "      <td>F7</td>\n",
       "      <td>2600000</td>\n",
       "      <td>Astrakhan</td>\n",
       "      <td>gasoline</td>\n",
       "      <td>robot</td>\n",
       "      <td>4WD</td>\n",
       "      <td>19000</td>\n",
       "      <td>CN</td>\n",
       "      <td>1.5</td>\n",
       "      <td>150</td>\n",
       "      <td>2</td>\n",
       "    </tr>\n",
       "    <tr>\n",
       "      <th>3</th>\n",
       "      <td>3</td>\n",
       "      <td>Toyota</td>\n",
       "      <td>Camry</td>\n",
       "      <td>4200000</td>\n",
       "      <td>Astrakhan</td>\n",
       "      <td>gasoline</td>\n",
       "      <td>automatic</td>\n",
       "      <td>FWD</td>\n",
       "      <td>30000</td>\n",
       "      <td>JP</td>\n",
       "      <td>3.5</td>\n",
       "      <td>249</td>\n",
       "      <td>2</td>\n",
       "    </tr>\n",
       "    <tr>\n",
       "      <th>4</th>\n",
       "      <td>4</td>\n",
       "      <td>OMODA</td>\n",
       "      <td>C5</td>\n",
       "      <td>2125000</td>\n",
       "      <td>Astrakhan</td>\n",
       "      <td>gasoline</td>\n",
       "      <td>CVT</td>\n",
       "      <td>FWD</td>\n",
       "      <td>18824</td>\n",
       "      <td>CN</td>\n",
       "      <td>1.5</td>\n",
       "      <td>147</td>\n",
       "      <td>2</td>\n",
       "    </tr>\n",
       "    <tr>\n",
       "      <th>...</th>\n",
       "      <td>...</td>\n",
       "      <td>...</td>\n",
       "      <td>...</td>\n",
       "      <td>...</td>\n",
       "      <td>...</td>\n",
       "      <td>...</td>\n",
       "      <td>...</td>\n",
       "      <td>...</td>\n",
       "      <td>...</td>\n",
       "      <td>...</td>\n",
       "      <td>...</td>\n",
       "      <td>...</td>\n",
       "      <td>...</td>\n",
       "    </tr>\n",
       "    <tr>\n",
       "      <th>42084</th>\n",
       "      <td>42084</td>\n",
       "      <td>Isuzu</td>\n",
       "      <td>Bighorn</td>\n",
       "      <td>450000</td>\n",
       "      <td>Yakutsk</td>\n",
       "      <td>diesel</td>\n",
       "      <td>automatic</td>\n",
       "      <td>4WD</td>\n",
       "      <td>183212</td>\n",
       "      <td>JP</td>\n",
       "      <td>3.1</td>\n",
       "      <td>125</td>\n",
       "      <td>30</td>\n",
       "    </tr>\n",
       "    <tr>\n",
       "      <th>42085</th>\n",
       "      <td>42085</td>\n",
       "      <td>Toyota</td>\n",
       "      <td>Corolla Axio</td>\n",
       "      <td>650000</td>\n",
       "      <td>Yakutsk</td>\n",
       "      <td>gasoline</td>\n",
       "      <td>CVT</td>\n",
       "      <td>FWD</td>\n",
       "      <td>110000</td>\n",
       "      <td>JP</td>\n",
       "      <td>1.5</td>\n",
       "      <td>110</td>\n",
       "      <td>13</td>\n",
       "    </tr>\n",
       "    <tr>\n",
       "      <th>42086</th>\n",
       "      <td>42086</td>\n",
       "      <td>Daihatsu</td>\n",
       "      <td>Be-Go</td>\n",
       "      <td>1350000</td>\n",
       "      <td>Yakutsk</td>\n",
       "      <td>gasoline</td>\n",
       "      <td>automatic</td>\n",
       "      <td>4WD</td>\n",
       "      <td>153000</td>\n",
       "      <td>JP</td>\n",
       "      <td>1.5</td>\n",
       "      <td>109</td>\n",
       "      <td>13</td>\n",
       "    </tr>\n",
       "    <tr>\n",
       "      <th>42087</th>\n",
       "      <td>42087</td>\n",
       "      <td>Mazda</td>\n",
       "      <td>Tribute</td>\n",
       "      <td>550000</td>\n",
       "      <td>Yakutsk</td>\n",
       "      <td>gasoline</td>\n",
       "      <td>automatic</td>\n",
       "      <td>4WD</td>\n",
       "      <td>190000</td>\n",
       "      <td>JP</td>\n",
       "      <td>2.0</td>\n",
       "      <td>129</td>\n",
       "      <td>23</td>\n",
       "    </tr>\n",
       "    <tr>\n",
       "      <th>42088</th>\n",
       "      <td>42088</td>\n",
       "      <td>Lexus</td>\n",
       "      <td>GX460</td>\n",
       "      <td>4000000</td>\n",
       "      <td>Yakutsk</td>\n",
       "      <td>gasoline</td>\n",
       "      <td>automatic</td>\n",
       "      <td>4WD</td>\n",
       "      <td>217000</td>\n",
       "      <td>JP</td>\n",
       "      <td>4.6</td>\n",
       "      <td>296</td>\n",
       "      <td>13</td>\n",
       "    </tr>\n",
       "  </tbody>\n",
       "</table>\n",
       "<p>42089 rows × 13 columns</p>\n",
       "</div>"
      ],
      "text/plain": [
       "       Unnamed: 0      car_brand        car_model  car_price   car_city  \\\n",
       "0               0           Ford        Focus         550000  Astrakhan   \n",
       "1               1  Mercedes-Benz    GLA-Class        1820000  Astrakhan   \n",
       "2               2          Haval           F7        2600000  Astrakhan   \n",
       "3               3         Toyota        Camry        4200000  Astrakhan   \n",
       "4               4          OMODA           C5        2125000  Astrakhan   \n",
       "...           ...            ...              ...        ...        ...   \n",
       "42084       42084          Isuzu      Bighorn         450000    Yakutsk   \n",
       "42085       42085         Toyota  Corolla Axio        650000    Yakutsk   \n",
       "42086       42086       Daihatsu        Be-Go        1350000    Yakutsk   \n",
       "42087       42087          Mazda      Tribute         550000    Yakutsk   \n",
       "42088       42088          Lexus        GX460        4000000    Yakutsk   \n",
       "\n",
       "       car_fuel car_transmission car_drive  car_mileage car_country  \\\n",
       "0      gasoline           manual       FWD       300000         USA   \n",
       "1      gasoline            robot       FWD        88000          DE   \n",
       "2      gasoline            robot       4WD        19000          CN   \n",
       "3      gasoline        automatic       FWD        30000          JP   \n",
       "4      gasoline              CVT       FWD        18824          CN   \n",
       "...         ...              ...       ...          ...         ...   \n",
       "42084    diesel        automatic       4WD       183212          JP   \n",
       "42085  gasoline              CVT       FWD       110000          JP   \n",
       "42086  gasoline        automatic       4WD       153000          JP   \n",
       "42087  gasoline        automatic       4WD       190000          JP   \n",
       "42088  gasoline        automatic       4WD       217000          JP   \n",
       "\n",
       "       car_engine_capacity  car_engine_hp  car_age  \n",
       "0                      1.8            125       14  \n",
       "1                      1.6            156       10  \n",
       "2                      1.5            150        2  \n",
       "3                      3.5            249        2  \n",
       "4                      1.5            147        2  \n",
       "...                    ...            ...      ...  \n",
       "42084                  3.1            125       30  \n",
       "42085                  1.5            110       13  \n",
       "42086                  1.5            109       13  \n",
       "42087                  2.0            129       23  \n",
       "42088                  4.6            296       13  \n",
       "\n",
       "[42089 rows x 13 columns]"
      ]
     },
     "execution_count": 3,
     "metadata": {},
     "output_type": "execute_result"
    }
   ],
   "source": [
    "df=pd.read_csv('car_data[1].csv')\n",
    "df"
   ]
  },
  {
   "cell_type": "code",
   "execution_count": 4,
   "metadata": {},
   "outputs": [
    {
     "data": {
      "text/plain": [
       "Unnamed: 0             42089\n",
       "car_brand                112\n",
       "car_model               1380\n",
       "car_price               5522\n",
       "car_city                  24\n",
       "car_fuel                   3\n",
       "car_transmission           4\n",
       "car_drive                  3\n",
       "car_mileage            14851\n",
       "car_country               16\n",
       "car_engine_capacity       63\n",
       "car_engine_hp            386\n",
       "car_age                   68\n",
       "dtype: int64"
      ]
     },
     "execution_count": 4,
     "metadata": {},
     "output_type": "execute_result"
    }
   ],
   "source": [
    "df.nunique()"
   ]
  },
  {
   "cell_type": "code",
   "execution_count": 5,
   "metadata": {
    "executionInfo": {
     "elapsed": 4,
     "status": "aborted",
     "timestamp": 1734324740172,
     "user": {
      "displayName": "Muhammed Afnan",
      "userId": "02362605953525826732"
     },
     "user_tz": -330
    },
    "id": "LgJtQnaEL5Bp"
   },
   "outputs": [
    {
     "data": {
      "text/plain": [
       "(42089, 13)"
      ]
     },
     "execution_count": 5,
     "metadata": {},
     "output_type": "execute_result"
    }
   ],
   "source": [
    "df.shape#finding shape"
   ]
  },
  {
   "cell_type": "code",
   "execution_count": 6,
   "metadata": {
    "executionInfo": {
     "elapsed": 4,
     "status": "aborted",
     "timestamp": 1734324740172,
     "user": {
      "displayName": "Muhammed Afnan",
      "userId": "02362605953525826732"
     },
     "user_tz": -330
    },
    "id": "ETTbemA5MFUZ"
   },
   "outputs": [
    {
     "data": {
      "text/plain": [
       "0"
      ]
     },
     "execution_count": 6,
     "metadata": {},
     "output_type": "execute_result"
    }
   ],
   "source": [
    "df.duplicated().sum()#finding duplicates"
   ]
  },
  {
   "cell_type": "code",
   "execution_count": 7,
   "metadata": {
    "executionInfo": {
     "elapsed": 4,
     "status": "aborted",
     "timestamp": 1734324740172,
     "user": {
      "displayName": "Muhammed Afnan",
      "userId": "02362605953525826732"
     },
     "user_tz": -330
    },
    "id": "GPnv3SzuMUbB"
   },
   "outputs": [
    {
     "data": {
      "text/plain": [
       "Unnamed: 0             0\n",
       "car_brand              0\n",
       "car_model              0\n",
       "car_price              0\n",
       "car_city               0\n",
       "car_fuel               0\n",
       "car_transmission       0\n",
       "car_drive              0\n",
       "car_mileage            0\n",
       "car_country            0\n",
       "car_engine_capacity    0\n",
       "car_engine_hp          0\n",
       "car_age                0\n",
       "dtype: int64"
      ]
     },
     "execution_count": 7,
     "metadata": {},
     "output_type": "execute_result"
    }
   ],
   "source": [
    "df.isnull().sum()#finding null values"
   ]
  },
  {
   "cell_type": "code",
   "execution_count": 8,
   "metadata": {
    "executionInfo": {
     "elapsed": 4,
     "status": "aborted",
     "timestamp": 1734324740172,
     "user": {
      "displayName": "Muhammed Afnan",
      "userId": "02362605953525826732"
     },
     "user_tz": -330
    },
    "id": "5ymUcCXwMl-w"
   },
   "outputs": [
    {
     "name": "stdout",
     "output_type": "stream",
     "text": [
      "<class 'pandas.core.frame.DataFrame'>\n",
      "RangeIndex: 42089 entries, 0 to 42088\n",
      "Data columns (total 13 columns):\n",
      " #   Column               Non-Null Count  Dtype  \n",
      "---  ------               --------------  -----  \n",
      " 0   Unnamed: 0           42089 non-null  int64  \n",
      " 1   car_brand            42089 non-null  object \n",
      " 2   car_model            42089 non-null  object \n",
      " 3   car_price            42089 non-null  int64  \n",
      " 4   car_city             42089 non-null  object \n",
      " 5   car_fuel             42089 non-null  object \n",
      " 6   car_transmission     42089 non-null  object \n",
      " 7   car_drive            42089 non-null  object \n",
      " 8   car_mileage          42089 non-null  int64  \n",
      " 9   car_country          42089 non-null  object \n",
      " 10  car_engine_capacity  42089 non-null  float64\n",
      " 11  car_engine_hp        42089 non-null  int64  \n",
      " 12  car_age              42089 non-null  int64  \n",
      "dtypes: float64(1), int64(5), object(7)\n",
      "memory usage: 4.2+ MB\n"
     ]
    }
   ],
   "source": [
    "df.info()#finding data types"
   ]
  },
  {
   "cell_type": "code",
   "execution_count": 9,
   "metadata": {
    "executionInfo": {
     "elapsed": 4,
     "status": "aborted",
     "timestamp": 1734324740172,
     "user": {
      "displayName": "Muhammed Afnan",
      "userId": "02362605953525826732"
     },
     "user_tz": -330
    },
    "id": "dyE4ntTdMpcQ"
   },
   "outputs": [
    {
     "data": {
      "text/html": [
       "<div>\n",
       "<style scoped>\n",
       "    .dataframe tbody tr th:only-of-type {\n",
       "        vertical-align: middle;\n",
       "    }\n",
       "\n",
       "    .dataframe tbody tr th {\n",
       "        vertical-align: top;\n",
       "    }\n",
       "\n",
       "    .dataframe thead th {\n",
       "        text-align: right;\n",
       "    }\n",
       "</style>\n",
       "<table border=\"1\" class=\"dataframe\">\n",
       "  <thead>\n",
       "    <tr style=\"text-align: right;\">\n",
       "      <th></th>\n",
       "      <th>Unnamed: 0</th>\n",
       "      <th>car_price</th>\n",
       "      <th>car_mileage</th>\n",
       "      <th>car_engine_capacity</th>\n",
       "      <th>car_engine_hp</th>\n",
       "      <th>car_age</th>\n",
       "    </tr>\n",
       "  </thead>\n",
       "  <tbody>\n",
       "    <tr>\n",
       "      <th>count</th>\n",
       "      <td>42089.000000</td>\n",
       "      <td>4.208900e+04</td>\n",
       "      <td>42089.000000</td>\n",
       "      <td>42089.000000</td>\n",
       "      <td>42089.000000</td>\n",
       "      <td>42089.000000</td>\n",
       "    </tr>\n",
       "    <tr>\n",
       "      <th>mean</th>\n",
       "      <td>21044.000000</td>\n",
       "      <td>1.712717e+06</td>\n",
       "      <td>144846.070517</td>\n",
       "      <td>1.977084</td>\n",
       "      <td>147.329373</td>\n",
       "      <td>11.697261</td>\n",
       "    </tr>\n",
       "    <tr>\n",
       "      <th>std</th>\n",
       "      <td>12150.192077</td>\n",
       "      <td>1.976693e+06</td>\n",
       "      <td>92460.616254</td>\n",
       "      <td>0.782458</td>\n",
       "      <td>69.438003</td>\n",
       "      <td>7.379045</td>\n",
       "    </tr>\n",
       "    <tr>\n",
       "      <th>min</th>\n",
       "      <td>0.000000</td>\n",
       "      <td>7.000000e+03</td>\n",
       "      <td>1.000000</td>\n",
       "      <td>0.600000</td>\n",
       "      <td>30.000000</td>\n",
       "      <td>0.000000</td>\n",
       "    </tr>\n",
       "    <tr>\n",
       "      <th>25%</th>\n",
       "      <td>10522.000000</td>\n",
       "      <td>7.300000e+05</td>\n",
       "      <td>76500.000000</td>\n",
       "      <td>1.600000</td>\n",
       "      <td>105.000000</td>\n",
       "      <td>6.000000</td>\n",
       "    </tr>\n",
       "    <tr>\n",
       "      <th>50%</th>\n",
       "      <td>21044.000000</td>\n",
       "      <td>1.250000e+06</td>\n",
       "      <td>134500.000000</td>\n",
       "      <td>1.700000</td>\n",
       "      <td>130.000000</td>\n",
       "      <td>11.000000</td>\n",
       "    </tr>\n",
       "    <tr>\n",
       "      <th>75%</th>\n",
       "      <td>31566.000000</td>\n",
       "      <td>2.024900e+06</td>\n",
       "      <td>200000.000000</td>\n",
       "      <td>2.000000</td>\n",
       "      <td>170.000000</td>\n",
       "      <td>16.000000</td>\n",
       "    </tr>\n",
       "    <tr>\n",
       "      <th>max</th>\n",
       "      <td>42088.000000</td>\n",
       "      <td>7.000000e+07</td>\n",
       "      <td>996658.000000</td>\n",
       "      <td>8.000000</td>\n",
       "      <td>1197.000000</td>\n",
       "      <td>84.000000</td>\n",
       "    </tr>\n",
       "  </tbody>\n",
       "</table>\n",
       "</div>"
      ],
      "text/plain": [
       "         Unnamed: 0     car_price    car_mileage  car_engine_capacity  \\\n",
       "count  42089.000000  4.208900e+04   42089.000000         42089.000000   \n",
       "mean   21044.000000  1.712717e+06  144846.070517             1.977084   \n",
       "std    12150.192077  1.976693e+06   92460.616254             0.782458   \n",
       "min        0.000000  7.000000e+03       1.000000             0.600000   \n",
       "25%    10522.000000  7.300000e+05   76500.000000             1.600000   \n",
       "50%    21044.000000  1.250000e+06  134500.000000             1.700000   \n",
       "75%    31566.000000  2.024900e+06  200000.000000             2.000000   \n",
       "max    42088.000000  7.000000e+07  996658.000000             8.000000   \n",
       "\n",
       "       car_engine_hp       car_age  \n",
       "count   42089.000000  42089.000000  \n",
       "mean      147.329373     11.697261  \n",
       "std        69.438003      7.379045  \n",
       "min        30.000000      0.000000  \n",
       "25%       105.000000      6.000000  \n",
       "50%       130.000000     11.000000  \n",
       "75%       170.000000     16.000000  \n",
       "max      1197.000000     84.000000  "
      ]
     },
     "execution_count": 9,
     "metadata": {},
     "output_type": "execute_result"
    }
   ],
   "source": [
    "df.describe()#finding statistical values"
   ]
  },
  {
   "cell_type": "markdown",
   "metadata": {
    "id": "S_rQf1TGO1mA"
   },
   "source": [
    "#  3.Data Visualization"
   ]
  },
  {
   "cell_type": "code",
   "execution_count": 10,
   "metadata": {
    "executionInfo": {
     "elapsed": 4,
     "status": "aborted",
     "timestamp": 1734324740172,
     "user": {
      "displayName": "Muhammed Afnan",
      "userId": "02362605953525826732"
     },
     "user_tz": -330
    },
    "id": "YlwnMiMjMs24"
   },
   "outputs": [
    {
     "data": {
      "text/plain": [
       "<Axes: xlabel='car_price', ylabel='Count'>"
      ]
     },
     "execution_count": 10,
     "metadata": {},
     "output_type": "execute_result"
    },
    {
     "data": {
      "image/png": "[encoded data removed]",
      "text/plain": [
       "<Figure size 640x480 with 1 Axes>"
      ]
     },
     "metadata": {},
     "output_type": "display_data"
    }
   ],
   "source": [
    "sns.histplot(df['car_price'],kde=True)#finding distribution of the target"
   ]
  },
  {
   "cell_type": "code",
   "execution_count": 11,
   "metadata": {
    "executionInfo": {
     "elapsed": 4,
     "status": "aborted",
     "timestamp": 1734324740172,
     "user": {
      "displayName": "Muhammed Afnan",
      "userId": "02362605953525826732"
     },
     "user_tz": -330
    },
    "id": "tJCoXe9hOmDp"
   },
   "outputs": [
    {
     "data": {
      "text/plain": [
       "array([[<Axes: title={'center': 'Unnamed: 0'}>,\n",
       "        <Axes: title={'center': 'car_price'}>],\n",
       "       [<Axes: title={'center': 'car_mileage'}>,\n",
       "        <Axes: title={'center': 'car_engine_capacity'}>],\n",
       "       [<Axes: title={'center': 'car_engine_hp'}>,\n",
       "        <Axes: title={'center': 'car_age'}>]], dtype=object)"
      ]
     },
     "execution_count": 11,
     "metadata": {},
     "output_type": "execute_result"
    },
    {
     "data": {
      "image/png": "[encoded data removed]",
      "text/plain": [
       "<Figure size 1000x1000 with 6 Axes>"
      ]
     },
     "metadata": {},
     "output_type": "display_data"
    }
   ],
   "source": [
    "df.hist(figsize=(10,10))#finding distribution of all features"
   ]
  },
  {
   "cell_type": "code",
   "execution_count": 12,
   "metadata": {
    "executionInfo": {
     "elapsed": 4,
     "status": "aborted",
     "timestamp": 1734324740172,
     "user": {
      "displayName": "Muhammed Afnan",
      "userId": "02362605953525826732"
     },
     "user_tz": -330
    },
    "id": "WClJ_mnfUbnX"
   },
   "outputs": [],
   "source": [
    "df.drop(['Unnamed: 0'],axis=1,inplace=True)#droped becouse it was an unwanted feature"
   ]
  },
  {
   "cell_type": "markdown",
   "metadata": {
    "id": "tmHXlML9QGTI"
   },
   "source": [
    "#  4.Encoding Categorical Variables"
   ]
  },
  {
   "cell_type": "code",
   "execution_count": 13,
   "metadata": {
    "executionInfo": {
     "elapsed": 4,
     "status": "aborted",
     "timestamp": 1734324740172,
     "user": {
      "displayName": "Muhammed Afnan",
      "userId": "02362605953525826732"
     },
     "user_tz": -330
    },
    "id": "SqUknKxZH1xQ"
   },
   "outputs": [],
   "source": [
    "from sklearn.preprocessing import LabelEncoder\n",
    "labelencoder=LabelEncoder()"
   ]
  },
  {
   "cell_type": "code",
   "execution_count": 14,
   "metadata": {
    "executionInfo": {
     "elapsed": 4,
     "status": "aborted",
     "timestamp": 1734324740172,
     "user": {
      "displayName": "Muhammed Afnan",
      "userId": "02362605953525826732"
     },
     "user_tz": -330
    },
    "id": "pYJRo0g0PEPo"
   },
   "outputs": [
    {
     "data": {
      "text/html": [
       "<div>\n",
       "<style scoped>\n",
       "    .dataframe tbody tr th:only-of-type {\n",
       "        vertical-align: middle;\n",
       "    }\n",
       "\n",
       "    .dataframe tbody tr th {\n",
       "        vertical-align: top;\n",
       "    }\n",
       "\n",
       "    .dataframe thead th {\n",
       "        text-align: right;\n",
       "    }\n",
       "</style>\n",
       "<table border=\"1\" class=\"dataframe\">\n",
       "  <thead>\n",
       "    <tr style=\"text-align: right;\">\n",
       "      <th></th>\n",
       "      <th>car_brand</th>\n",
       "      <th>car_model</th>\n",
       "      <th>car_price</th>\n",
       "      <th>car_city</th>\n",
       "      <th>car_fuel</th>\n",
       "      <th>car_transmission</th>\n",
       "      <th>car_drive</th>\n",
       "      <th>car_mileage</th>\n",
       "      <th>car_country</th>\n",
       "      <th>car_engine_capacity</th>\n",
       "      <th>car_engine_hp</th>\n",
       "      <th>car_age</th>\n",
       "    </tr>\n",
       "  </thead>\n",
       "  <tbody>\n",
       "    <tr>\n",
       "      <th>0</th>\n",
       "      <td>29</td>\n",
       "      <td>498</td>\n",
       "      <td>550000</td>\n",
       "      <td>0</td>\n",
       "      <td>1</td>\n",
       "      <td>2</td>\n",
       "      <td>1</td>\n",
       "      <td>300000</td>\n",
       "      <td>14</td>\n",
       "      <td>1.8</td>\n",
       "      <td>125</td>\n",
       "      <td>14</td>\n",
       "    </tr>\n",
       "    <tr>\n",
       "      <th>1</th>\n",
       "      <td>71</td>\n",
       "      <td>524</td>\n",
       "      <td>1820000</td>\n",
       "      <td>0</td>\n",
       "      <td>1</td>\n",
       "      <td>3</td>\n",
       "      <td>1</td>\n",
       "      <td>88000</td>\n",
       "      <td>2</td>\n",
       "      <td>1.6</td>\n",
       "      <td>156</td>\n",
       "      <td>10</td>\n",
       "    </tr>\n",
       "    <tr>\n",
       "      <th>2</th>\n",
       "      <td>39</td>\n",
       "      <td>472</td>\n",
       "      <td>2600000</td>\n",
       "      <td>0</td>\n",
       "      <td>1</td>\n",
       "      <td>3</td>\n",
       "      <td>0</td>\n",
       "      <td>19000</td>\n",
       "      <td>0</td>\n",
       "      <td>1.5</td>\n",
       "      <td>150</td>\n",
       "      <td>2</td>\n",
       "    </tr>\n",
       "    <tr>\n",
       "      <th>3</th>\n",
       "      <td>102</td>\n",
       "      <td>280</td>\n",
       "      <td>4200000</td>\n",
       "      <td>0</td>\n",
       "      <td>1</td>\n",
       "      <td>1</td>\n",
       "      <td>1</td>\n",
       "      <td>30000</td>\n",
       "      <td>7</td>\n",
       "      <td>3.5</td>\n",
       "      <td>249</td>\n",
       "      <td>2</td>\n",
       "    </tr>\n",
       "    <tr>\n",
       "      <th>4</th>\n",
       "      <td>76</td>\n",
       "      <td>244</td>\n",
       "      <td>2125000</td>\n",
       "      <td>0</td>\n",
       "      <td>1</td>\n",
       "      <td>0</td>\n",
       "      <td>1</td>\n",
       "      <td>18824</td>\n",
       "      <td>0</td>\n",
       "      <td>1.5</td>\n",
       "      <td>147</td>\n",
       "      <td>2</td>\n",
       "    </tr>\n",
       "    <tr>\n",
       "      <th>...</th>\n",
       "      <td>...</td>\n",
       "      <td>...</td>\n",
       "      <td>...</td>\n",
       "      <td>...</td>\n",
       "      <td>...</td>\n",
       "      <td>...</td>\n",
       "      <td>...</td>\n",
       "      <td>...</td>\n",
       "      <td>...</td>\n",
       "      <td>...</td>\n",
       "      <td>...</td>\n",
       "      <td>...</td>\n",
       "    </tr>\n",
       "    <tr>\n",
       "      <th>42084</th>\n",
       "      <td>48</td>\n",
       "      <td>204</td>\n",
       "      <td>450000</td>\n",
       "      <td>22</td>\n",
       "      <td>0</td>\n",
       "      <td>1</td>\n",
       "      <td>0</td>\n",
       "      <td>183212</td>\n",
       "      <td>7</td>\n",
       "      <td>3.1</td>\n",
       "      <td>125</td>\n",
       "      <td>30</td>\n",
       "    </tr>\n",
       "    <tr>\n",
       "      <th>42085</th>\n",
       "      <td>102</td>\n",
       "      <td>345</td>\n",
       "      <td>650000</td>\n",
       "      <td>22</td>\n",
       "      <td>1</td>\n",
       "      <td>0</td>\n",
       "      <td>1</td>\n",
       "      <td>110000</td>\n",
       "      <td>7</td>\n",
       "      <td>1.5</td>\n",
       "      <td>110</td>\n",
       "      <td>13</td>\n",
       "    </tr>\n",
       "    <tr>\n",
       "      <th>42086</th>\n",
       "      <td>20</td>\n",
       "      <td>192</td>\n",
       "      <td>1350000</td>\n",
       "      <td>22</td>\n",
       "      <td>1</td>\n",
       "      <td>1</td>\n",
       "      <td>0</td>\n",
       "      <td>153000</td>\n",
       "      <td>7</td>\n",
       "      <td>1.5</td>\n",
       "      <td>109</td>\n",
       "      <td>13</td>\n",
       "    </tr>\n",
       "    <tr>\n",
       "      <th>42087</th>\n",
       "      <td>70</td>\n",
       "      <td>1212</td>\n",
       "      <td>550000</td>\n",
       "      <td>22</td>\n",
       "      <td>1</td>\n",
       "      <td>1</td>\n",
       "      <td>0</td>\n",
       "      <td>190000</td>\n",
       "      <td>7</td>\n",
       "      <td>2.0</td>\n",
       "      <td>129</td>\n",
       "      <td>23</td>\n",
       "    </tr>\n",
       "    <tr>\n",
       "      <th>42088</th>\n",
       "      <td>60</td>\n",
       "      <td>544</td>\n",
       "      <td>4000000</td>\n",
       "      <td>22</td>\n",
       "      <td>1</td>\n",
       "      <td>1</td>\n",
       "      <td>0</td>\n",
       "      <td>217000</td>\n",
       "      <td>7</td>\n",
       "      <td>4.6</td>\n",
       "      <td>296</td>\n",
       "      <td>13</td>\n",
       "    </tr>\n",
       "  </tbody>\n",
       "</table>\n",
       "<p>42089 rows × 12 columns</p>\n",
       "</div>"
      ],
      "text/plain": [
       "       car_brand  car_model  car_price  car_city  car_fuel  car_transmission  \\\n",
       "0             29        498     550000         0         1                 2   \n",
       "1             71        524    1820000         0         1                 3   \n",
       "2             39        472    2600000         0         1                 3   \n",
       "3            102        280    4200000         0         1                 1   \n",
       "4             76        244    2125000         0         1                 0   \n",
       "...          ...        ...        ...       ...       ...               ...   \n",
       "42084         48        204     450000        22         0                 1   \n",
       "42085        102        345     650000        22         1                 0   \n",
       "42086         20        192    1350000        22         1                 1   \n",
       "42087         70       1212     550000        22         1                 1   \n",
       "42088         60        544    4000000        22         1                 1   \n",
       "\n",
       "       car_drive  car_mileage  car_country  car_engine_capacity  \\\n",
       "0              1       300000           14                  1.8   \n",
       "1              1        88000            2                  1.6   \n",
       "2              0        19000            0                  1.5   \n",
       "3              1        30000            7                  3.5   \n",
       "4              1        18824            0                  1.5   \n",
       "...          ...          ...          ...                  ...   \n",
       "42084          0       183212            7                  3.1   \n",
       "42085          1       110000            7                  1.5   \n",
       "42086          0       153000            7                  1.5   \n",
       "42087          0       190000            7                  2.0   \n",
       "42088          0       217000            7                  4.6   \n",
       "\n",
       "       car_engine_hp  car_age  \n",
       "0                125       14  \n",
       "1                156       10  \n",
       "2                150        2  \n",
       "3                249        2  \n",
       "4                147        2  \n",
       "...              ...      ...  \n",
       "42084            125       30  \n",
       "42085            110       13  \n",
       "42086            109       13  \n",
       "42087            129       23  \n",
       "42088            296       13  \n",
       "\n",
       "[42089 rows x 12 columns]"
      ]
     },
     "execution_count": 14,
     "metadata": {},
     "output_type": "execute_result"
    }
   ],
   "source": [
    "#Apply Label Encoding to each categorical column\n",
    "\n",
    "df['car_city']=labelencoder.fit_transform(df['car_city'])\n",
    "df['car_brand']=labelencoder.fit_transform(df['car_brand'])\n",
    "df['car_model']=labelencoder.fit_transform(df['car_model'])\n",
    "df['car_fuel']=labelencoder.fit_transform(df['car_fuel'])\n",
    "df['car_transmission']=labelencoder.fit_transform(df['car_transmission'])\n",
    "df['car_drive']=labelencoder.fit_transform(df['car_drive'])\n",
    "df['car_country']=labelencoder.fit_transform(df['car_country'])\n",
    "df"
   ]
  },
  {
   "cell_type": "markdown",
   "metadata": {
    "id": "6tw6DXqPSwuW"
   },
   "source": [
    "#5.Correlation"
   ]
  },
  {
   "cell_type": "code",
   "execution_count": 15,
   "metadata": {
    "executionInfo": {
     "elapsed": 4,
     "status": "aborted",
     "timestamp": 1734324740172,
     "user": {
      "displayName": "Muhammed Afnan",
      "userId": "02362605953525826732"
     },
     "user_tz": -330
    },
    "id": "aTf_5XF9XbiV"
   },
   "outputs": [
    {
     "data": {
      "image/png": "[encoded data removed]",
      "text/plain": [
       "<Figure size 640x480 with 2 Axes>"
      ]
     },
     "metadata": {},
     "output_type": "display_data"
    }
   ],
   "source": [
    "#visualising correlation throgh a heatmap\n",
    "corr_matrix = df.corr()\n",
    "sns.heatmap(corr_matrix, annot=True, cmap='coolwarm',robust=True,fmt='0.01f')\n",
    "plt.title('Correlation Heatmap')\n",
    "plt.show()"
   ]
  },
  {
   "cell_type": "code",
   "execution_count": 16,
   "metadata": {
    "executionInfo": {
     "elapsed": 3,
     "status": "aborted",
     "timestamp": 1734324740172,
     "user": {
      "displayName": "Muhammed Afnan",
      "userId": "02362605953525826732"
     },
     "user_tz": -330
    },
    "id": "F-ZvjJisSwIP"
   },
   "outputs": [
    {
     "data": {
      "text/plain": [
       "car_price              1.000000\n",
       "car_engine_hp          0.627471\n",
       "car_engine_capacity    0.438152\n",
       "car_model              0.098695\n",
       "car_city               0.012983\n",
       "car_brand             -0.059802\n",
       "car_transmission      -0.102614\n",
       "car_fuel              -0.172521\n",
       "car_country           -0.187577\n",
       "car_drive             -0.336487\n",
       "car_mileage           -0.349092\n",
       "car_age               -0.424384\n",
       "Name: car_price, dtype: float64"
      ]
     },
     "execution_count": 16,
     "metadata": {},
     "output_type": "execute_result"
    }
   ],
   "source": [
    "cor=df.corr()['car_price']#finding correlation of the features with the target veriable\n",
    "cor.sort_values(ascending=False)"
   ]
  },
  {
   "cell_type": "code",
   "execution_count": 17,
   "metadata": {
    "executionInfo": {
     "elapsed": 3,
     "status": "aborted",
     "timestamp": 1734324740172,
     "user": {
      "displayName": "Muhammed Afnan",
      "userId": "02362605953525826732"
     },
     "user_tz": -330
    },
    "id": "aZO4x34XT6dO"
   },
   "outputs": [],
   "source": [
    "# droping values with no and minimum correlation\n",
    "\n",
    "df.drop(['car_model'],axis=1,inplace=True)\n",
    "df.drop(['car_city'],axis=1,inplace=True)\n",
    "df.drop(['car_brand'],axis=1,inplace=True)\n",
    "df.drop(['car_transmission'],axis=1,inplace=True)\n",
    "df.drop(['car_fuel'],axis=1,inplace=True)\n",
    "\n",
    "#car engine hp and car engine capacity independent variables shows 0.8 highly correlated.we are taking car_engine_capacity\n",
    "df.drop(['car_engine_capacity'],axis=1,inplace=True)"
   ]
  },
  {
   "cell_type": "code",
   "execution_count": 18,
   "metadata": {
    "executionInfo": {
     "elapsed": 3,
     "status": "aborted",
     "timestamp": 1734324740172,
     "user": {
      "displayName": "Muhammed Afnan",
      "userId": "02362605953525826732"
     },
     "user_tz": -330
    },
    "id": "MVxqUr1cTiNv"
   },
   "outputs": [
    {
     "data": {
      "image/png": "[encoded data removed]",
      "text/plain": [
       "<Figure size 640x480 with 2 Axes>"
      ]
     },
     "metadata": {},
     "output_type": "display_data"
    }
   ],
   "source": [
    "#visualising the changes of the above steps through a heatmap\n",
    "#also analysing the correlation in the new heat map\n",
    "corr_matrix = df.corr()\n",
    "sns.heatmap(corr_matrix, annot=True, cmap='coolwarm',robust=True,fmt='0.01f')\n",
    "plt.title('Correlation Heatmap')\n",
    "plt.show()"
   ]
  },
  {
   "cell_type": "markdown",
   "metadata": {
    "id": "BAaiKkRJWGQu"
   },
   "source": [
    "#6.Outliers and loging"
   ]
  },
  {
   "cell_type": "code",
   "execution_count": 19,
   "metadata": {
    "colab": {
     "base_uri": "https://localhost:8080/",
     "height": 193
    },
    "executionInfo": {
     "elapsed": 1161,
     "status": "error",
     "timestamp": 1734324724779,
     "user": {
      "displayName": "Muhammed Afnan",
      "userId": "02362605953525826732"
     },
     "user_tz": -330
    },
    "id": "pIhRwjmVZwiF",
    "outputId": "c65454be-0101-47ee-f549-524b3228eef4"
   },
   "outputs": [
    {
     "data": {
      "image/png": "[encoded data removed]",
      "text/plain": [
       "<Figure size 1000x1000 with 1 Axes>"
      ]
     },
     "metadata": {},
     "output_type": "display_data"
    }
   ],
   "source": [
    "#visualising outliers by using a bloxplot\n",
    "plt.figure(figsize=(10,10))\n",
    "df.boxplot()\n",
    "plt.show()"
   ]
  },
  {
   "cell_type": "markdown",
   "metadata": {
    "id": "AaRq97QP5b4h"
   },
   "source": [
    "This step applies a log transformation to reduce skewness in the data, which can help normalize the distribution, making patterns and relationships more interpretable for modeling.\n",
    "\n",
    "\n",
    "\n",
    "\n",
    "\n",
    "\n"
   ]
  },
  {
   "cell_type": "code",
   "execution_count": 20,
   "metadata": {
    "colab": {
     "base_uri": "https://localhost:8080/",
     "height": 784
    },
    "executionInfo": {
     "elapsed": 8451,
     "status": "ok",
     "timestamp": 1730700498640,
     "user": {
      "displayName": "Muhammed Afnan",
      "userId": "02362605953525826732"
     },
     "user_tz": -330
    },
    "id": "0yOJZkYYWFbW",
    "outputId": "f921eb4a-ef1d-41ec-d133-ea68d88ecd70"
   },
   "outputs": [],
   "source": [
    "# To handle skewness in the data, apply log transformation\n",
    "#log_data = np.log(df + 1)  # Adding 1 to avoid log(0) errors\n",
    "\n",
    "# Plotting the distribution of log-transformed data for all features combined\n",
    "#sns.histplot(log_data, bins=30, kde=True)  # Plot histogram with kernel density estimate (KDE)\n",
    "#plt.title(\"Log-Transformed Data\")  # Set title to indicate log-transformed data distribution\n",
    "#plt.show()\n",
    "\n",
    "# Plotting individual distributions for each feature in the log-transformed data\n",
    "# Assuming log_data is a DataFrame with multiple features\n",
    "#num_features = log_data.shape[1]  # Get the number of features (columns) in the data\n",
    "#plt.figure(figsize=(50, 15))  # Set figure size for clear visualization of multiple plots\n",
    "\n",
    "# Iterate over each feature in the log_data DataFrame\n",
    "#for i, column in enumerate(log_data.columns, 1):\n",
    "    #plt.subplot(1, num_features, i)  # Create subplot for each feature\n",
    "    #sns.histplot(log_data[column], bins=30, kde=True)  # Plot histogram for each log-transformed feature\n",
    "    #plt.title(f\"Log-Transformed {column}\")  # Title for each subplot showing the feature name\n",
    "\n",
    "#plt.tight_layout()  # Adjust layout to avoid overlap between plots\n",
    "#plt.show()  # Display all subplots\n"
   ]
  },
  {
   "cell_type": "markdown",
   "metadata": {
    "id": "VE7jp-ca6jM5"
   },
   "source": [
    "\n",
    "This step calculates the first (Q1), second (Q2, or median), and third quartiles (Q3) of the dataset, which divide the data into four equal parts. The interquartile range (IQR) is then computed as the difference between Q3 and Q1, representing the range of the middle 50% of the data. This helps in identifying data spread and detecting potential outliers."
   ]
  },
  {
   "cell_type": "code",
   "execution_count": 21,
   "metadata": {
    "colab": {
     "base_uri": "https://localhost:8080/"
    },
    "executionInfo": {
     "elapsed": 7,
     "status": "ok",
     "timestamp": 1730700498640,
     "user": {
      "displayName": "Muhammed Afnan",
      "userId": "02362605953525826732"
     },
     "user_tz": -330
    },
    "id": "U-o3hU5qWlet",
    "outputId": "d3be0d4e-3383-4fb8-87d9-14a96673d565"
   },
   "outputs": [
    {
     "data": {
      "text/plain": [
       "129994.0"
      ]
     },
     "execution_count": 21,
     "metadata": {},
     "output_type": "execute_result"
    }
   ],
   "source": [
    "Q1=np.quantile(df,0.25)\n",
    "Q2=np.quantile(df,0.50)\n",
    "Q3=np.quantile(df,0.75)\n",
    "Q1,Q2,Q3\n",
    "IQR=Q3-Q1\n",
    "IQR"
   ]
  },
  {
   "cell_type": "code",
   "execution_count": 22,
   "metadata": {
    "colab": {
     "base_uri": "https://localhost:8080/"
    },
    "executionInfo": {
     "elapsed": 6,
     "status": "ok",
     "timestamp": 1730700498640,
     "user": {
      "displayName": "Muhammed Afnan",
      "userId": "02362605953525826732"
     },
     "user_tz": -330
    },
    "id": "MMcXQWntWqp2",
    "outputId": "8e12eda6-283b-45c2-e09a-141a359b0dce"
   },
   "outputs": [
    {
     "data": {
      "text/plain": [
       "['car_drive', 'car_mileage', 'car_country', 'car_engine_hp', 'car_age']"
      ]
     },
     "execution_count": 22,
     "metadata": {},
     "output_type": "execute_result"
    }
   ],
   "source": [
    "#Created a new dataframe without the target veriable removed.for removing outliers without removing the outliers of the target\n",
    "hh=df.columns.tolist()\n",
    "hh.remove('car_price')\n",
    "hh"
   ]
  },
  {
   "cell_type": "code",
   "execution_count": 23,
   "metadata": {
    "id": "XnC7evNWW1gu"
   },
   "outputs": [],
   "source": [
    "def remove_outliers_iqr(df, column):\n",
    "    # Calculate Q1 (25th percentile) and Q3 (75th percentile) for the column\n",
    "    Q1 = df[column].quantile(0.25)\n",
    "    Q3 = df[column].quantile(0.75)\n",
    "\n",
    "    # Calculate the Interquartile Range (IQR)\n",
    "    IQR = Q3 - Q1\n",
    "\n",
    "    # Define the lower and upper bounds for detecting outliers\n",
    "    lower_bound = Q1 - 1.5  * IQR\n",
    "    upper_bound = Q3 + 1.5 * IQR\n",
    "\n",
    "    # Filter out the outliers from the DataFrame\n",
    "    df_filtered = df[(df[column] >= lower_bound) & (df[column] <= upper_bound)]\n",
    "    return df_filtered\n",
    "\n",
    "for i in df:\n",
    "    df = remove_outliers_iqr(df, i)"
   ]
  },
  {
   "cell_type": "code",
   "execution_count": 25,
   "metadata": {
    "colab": {
     "base_uri": "https://localhost:8080/",
     "height": 830
    },
    "executionInfo": {
     "elapsed": 687,
     "status": "ok",
     "timestamp": 1730700499322,
     "user": {
      "displayName": "Muhammed Afnan",
      "userId": "02362605953525826732"
     },
     "user_tz": -330
    },
    "id": "4H2mHFOzW54n",
    "outputId": "54c03d75-9a2a-4a0b-91b7-0486bbd0a8f5"
   },
   "outputs": [
    {
     "ename": "NameError",
     "evalue": "name 'log_data' is not defined",
     "output_type": "error",
     "traceback": [
      "\u001b[1;31m---------------------------------------------------------------------------\u001b[0m",
      "\u001b[1;31mNameError\u001b[0m                                 Traceback (most recent call last)",
      "Cell \u001b[1;32mIn[25], line 2\u001b[0m\n\u001b[0;32m      1\u001b[0m plt\u001b[38;5;241m.\u001b[39mfigure(figsize\u001b[38;5;241m=\u001b[39m(\u001b[38;5;241m10\u001b[39m,\u001b[38;5;241m10\u001b[39m))\n\u001b[1;32m----> 2\u001b[0m sns\u001b[38;5;241m.\u001b[39mboxplot(log_data,orient\u001b[38;5;241m=\u001b[39m\u001b[38;5;124m'\u001b[39m\u001b[38;5;124mh\u001b[39m\u001b[38;5;124m'\u001b[39m,palette\u001b[38;5;241m=\u001b[39m\u001b[38;5;124m'\u001b[39m\u001b[38;5;124mSet1\u001b[39m\u001b[38;5;124m'\u001b[39m)\n\u001b[0;32m      3\u001b[0m plt\u001b[38;5;241m.\u001b[39mshow()\n",
      "\u001b[1;31mNameError\u001b[0m: name 'log_data' is not defined"
     ]
    },
    {
     "data": {
      "text/plain": [
       "<Figure size 1000x1000 with 0 Axes>"
      ]
     },
     "metadata": {},
     "output_type": "display_data"
    }
   ],
   "source": [
    "plt.figure(figsize=(10,10))\n",
    "sns.boxplot(log_data,orient='h',palette='Set1')\n",
    "plt.show()"
   ]
  },
  {
   "cell_type": "code",
   "execution_count": 26,
   "metadata": {
    "colab": {
     "base_uri": "https://localhost:8080/"
    },
    "executionInfo": {
     "elapsed": 8,
     "status": "ok",
     "timestamp": 1730700499322,
     "user": {
      "displayName": "Muhammed Afnan",
      "userId": "02362605953525826732"
     },
     "user_tz": -330
    },
    "id": "9UBy3sPZW_EW",
    "outputId": "5d71a3fb-1e5f-4149-c0c5-858d031ecc2a"
   },
   "outputs": [
    {
     "data": {
      "text/plain": [
       "(21353, 6)"
      ]
     },
     "execution_count": 26,
     "metadata": {},
     "output_type": "execute_result"
    }
   ],
   "source": [
    "df.shape"
   ]
  },
  {
   "cell_type": "markdown",
   "metadata": {
    "id": "FiMp5fsfahmG"
   },
   "source": [
    "#7.Training"
   ]
  },
  {
   "cell_type": "code",
   "execution_count": 27,
   "metadata": {
    "id": "qMBiYIrwalL8"
   },
   "outputs": [],
   "source": [
    "from sklearn.model_selection import train_test_split\n",
    "from sklearn.linear_model import LinearRegression\n",
    "from sklearn.metrics import mean_squared_error,r2_score,mean_absolute_error,root_mean_squared_error"
   ]
  },
  {
   "cell_type": "code",
   "execution_count": 28,
   "metadata": {
    "colab": {
     "base_uri": "https://localhost:8080/",
     "height": 272
    },
    "executionInfo": {
     "elapsed": 6,
     "status": "ok",
     "timestamp": 1730700499322,
     "user": {
      "displayName": "Muhammed Afnan",
      "userId": "02362605953525826732"
     },
     "user_tz": -330
    },
    "id": "rLzTbu6_apjk",
    "outputId": "59db15d0-ae16-4d55-84ce-8c117afeb6b4"
   },
   "outputs": [
    {
     "data": {
      "text/plain": [
       "car_price        1.000000\n",
       "car_engine_hp    0.505896\n",
       "car_country      0.102894\n",
       "car_drive       -0.246097\n",
       "car_mileage     -0.528218\n",
       "car_age         -0.691335\n",
       "Name: car_price, dtype: float64"
      ]
     },
     "execution_count": 28,
     "metadata": {},
     "output_type": "execute_result"
    }
   ],
   "source": [
    "cor=df.corr()['car_price']#finding correlatiom\n",
    "cor.sort_values(ascending=False)"
   ]
  },
  {
   "cell_type": "code",
   "execution_count": 29,
   "metadata": {
    "id": "yMB_kLuHcpg_"
   },
   "outputs": [],
   "source": [
    "independent_feature=['car_engine_hp','car_mileage','car_age','car_country','car_drive']#independent feature\n",
    "dependent_feature=['car_price']#dependent feature\n",
    "x=df[independent_feature]\n",
    "y=df[dependent_feature]"
   ]
  },
  {
   "cell_type": "code",
   "execution_count": 30,
   "metadata": {
    "colab": {
     "base_uri": "https://localhost:8080/"
    },
    "executionInfo": {
     "elapsed": 6,
     "status": "ok",
     "timestamp": 1730700499322,
     "user": {
      "displayName": "Muhammed Afnan",
      "userId": "02362605953525826732"
     },
     "user_tz": -330
    },
    "id": "GGmCP92CdyKZ",
    "outputId": "e31ed74a-57d2-4127-f52c-f4e22262a3df"
   },
   "outputs": [
    {
     "name": "stdout",
     "output_type": "stream",
     "text": [
      "(17082, 5)\n",
      "(4271, 5)\n",
      "(17082, 1)\n",
      "(4271, 1)\n"
     ]
    }
   ],
   "source": [
    "x_train,x_test,y_train,y_test=train_test_split(x,y,test_size=0.2,#0.2 means 20% of data specified for testing set,and the other 80% for training set\n",
    "                                               random_state=42)# to take the same data for training and testing set\n",
    "\n",
    "print(x_train.shape)  # Prints the shape of x_train (rows, columns)\n",
    "print(x_test.shape)   # Prints the shape of x_test\n",
    "print(y_train.shape)  # Prints the shape of y_train\n",
    "print(y_test.shape)   # Prints the shape of y_test"
   ]
  },
  {
   "cell_type": "code",
   "execution_count": 31,
   "metadata": {
    "id": "ZlS3KgDsgkPv"
   },
   "outputs": [],
   "source": [
    "from sklearn.ensemble import RandomForestRegressor"
   ]
  },
  {
   "cell_type": "code",
   "execution_count": 32,
   "metadata": {
    "colab": {
     "base_uri": "https://localhost:8080/",
     "height": 135
    },
    "executionInfo": {
     "elapsed": 4350,
     "status": "ok",
     "timestamp": 1730700503667,
     "user": {
      "displayName": "Muhammed Afnan",
      "userId": "02362605953525826732"
     },
     "user_tz": -330
    },
    "id": "Rk3oLC1JejSX",
    "outputId": "4ce3fe33-78b6-42ae-da9e-2acc897c75f5"
   },
   "outputs": [
    {
     "name": "stderr",
     "output_type": "stream",
     "text": [
      "c:\\Users\\DELL\\anaconda3\\Lib\\site-packages\\sklearn\\base.py:1473: DataConversionWarning: A column-vector y was passed when a 1d array was expected. Please change the shape of y to (n_samples,), for example using ravel().\n",
      "  return fit_method(estimator, *args, **kwargs)\n"
     ]
    },
    {
     "data": {
      "text/html": [
       "<style>#sk-container-id-1 {\n",
       "  /* Definition of color scheme common for light and dark mode */\n",
       "  --sklearn-color-text: black;\n",
       "  --sklearn-color-line: gray;\n",
       "  /* Definition of color scheme for unfitted estimators */\n",
       "  --sklearn-color-unfitted-level-0: #fff5e6;\n",
       "  --sklearn-color-unfitted-level-1: #f6e4d2;\n",
       "  --sklearn-color-unfitted-level-2: #ffe0b3;\n",
       "  --sklearn-color-unfitted-level-3: chocolate;\n",
       "  /* Definition of color scheme for fitted estimators */\n",
       "  --sklearn-color-fitted-level-0: #f0f8ff;\n",
       "  --sklearn-color-fitted-level-1: #d4ebff;\n",
       "  --sklearn-color-fitted-level-2: #b3dbfd;\n",
       "  --sklearn-color-fitted-level-3: cornflowerblue;\n",
       "\n",
       "  /* Specific color for light theme */\n",
       "  --sklearn-color-text-on-default-background: var(--sg-text-color, var(--theme-code-foreground, var(--jp-content-font-color1, black)));\n",
       "  --sklearn-color-background: var(--sg-background-color, var(--theme-background, var(--jp-layout-color0, white)));\n",
       "  --sklearn-color-border-box: var(--sg-text-color, var(--theme-code-foreground, var(--jp-content-font-color1, black)));\n",
       "  --sklearn-color-icon: #696969;\n",
       "\n",
       "  @media (prefers-color-scheme: dark) {\n",
       "    /* Redefinition of color scheme for dark theme */\n",
       "    --sklearn-color-text-on-default-background: var(--sg-text-color, var(--theme-code-foreground, var(--jp-content-font-color1, white)));\n",
       "    --sklearn-color-background: var(--sg-background-color, var(--theme-background, var(--jp-layout-color0, #111)));\n",
       "    --sklearn-color-border-box: var(--sg-text-color, var(--theme-code-foreground, var(--jp-content-font-color1, white)));\n",
       "    --sklearn-color-icon: #878787;\n",
       "  }\n",
       "}\n",
       "\n",
       "#sk-container-id-1 {\n",
       "  color: var(--sklearn-color-text);\n",
       "}\n",
       "\n",
       "#sk-container-id-1 pre {\n",
       "  padding: 0;\n",
       "}\n",
       "\n",
       "#sk-container-id-1 input.sk-hidden--visually {\n",
       "  border: 0;\n",
       "  clip: rect(1px 1px 1px 1px);\n",
       "  clip: rect(1px, 1px, 1px, 1px);\n",
       "  height: 1px;\n",
       "  margin: -1px;\n",
       "  overflow: hidden;\n",
       "  padding: 0;\n",
       "  position: absolute;\n",
       "  width: 1px;\n",
       "}\n",
       "\n",
       "#sk-container-id-1 div.sk-dashed-wrapped {\n",
       "  border: 1px dashed var(--sklearn-color-line);\n",
       "  margin: 0 0.4em 0.5em 0.4em;\n",
       "  box-sizing: border-box;\n",
       "  padding-bottom: 0.4em;\n",
       "  background-color: var(--sklearn-color-background);\n",
       "}\n",
       "\n",
       "#sk-container-id-1 div.sk-container {\n",
       "  /* jupyter's `normalize.less` sets `[hidden] { display: none; }`\n",
       "     but bootstrap.min.css set `[hidden] { display: none !important; }`\n",
       "     so we also need the `!important` here to be able to override the\n",
       "     default hidden behavior on the sphinx rendered scikit-learn.org.\n",
       "     See: https://github.com/scikit-learn/scikit-learn/issues/21755 */\n",
       "  display: inline-block !important;\n",
       "  position: relative;\n",
       "}\n",
       "\n",
       "#sk-container-id-1 div.sk-text-repr-fallback {\n",
       "  display: none;\n",
       "}\n",
       "\n",
       "div.sk-parallel-item,\n",
       "div.sk-serial,\n",
       "div.sk-item {\n",
       "  /* draw centered vertical line to link estimators */\n",
       "  background-image: linear-gradient(var(--sklearn-color-text-on-default-background), var(--sklearn-color-text-on-default-background));\n",
       "  background-size: 2px 100%;\n",
       "  background-repeat: no-repeat;\n",
       "  background-position: center center;\n",
       "}\n",
       "\n",
       "/* Parallel-specific style estimator block */\n",
       "\n",
       "#sk-container-id-1 div.sk-parallel-item::after {\n",
       "  content: \"\";\n",
       "  width: 100%;\n",
       "  border-bottom: 2px solid var(--sklearn-color-text-on-default-background);\n",
       "  flex-grow: 1;\n",
       "}\n",
       "\n",
       "#sk-container-id-1 div.sk-parallel {\n",
       "  display: flex;\n",
       "  align-items: stretch;\n",
       "  justify-content: center;\n",
       "  background-color: var(--sklearn-color-background);\n",
       "  position: relative;\n",
       "}\n",
       "\n",
       "#sk-container-id-1 div.sk-parallel-item {\n",
       "  display: flex;\n",
       "  flex-direction: column;\n",
       "}\n",
       "\n",
       "#sk-container-id-1 div.sk-parallel-item:first-child::after {\n",
       "  align-self: flex-end;\n",
       "  width: 50%;\n",
       "}\n",
       "\n",
       "#sk-container-id-1 div.sk-parallel-item:last-child::after {\n",
       "  align-self: flex-start;\n",
       "  width: 50%;\n",
       "}\n",
       "\n",
       "#sk-container-id-1 div.sk-parallel-item:only-child::after {\n",
       "  width: 0;\n",
       "}\n",
       "\n",
       "/* Serial-specific style estimator block */\n",
       "\n",
       "#sk-container-id-1 div.sk-serial {\n",
       "  display: flex;\n",
       "  flex-direction: column;\n",
       "  align-items: center;\n",
       "  background-color: var(--sklearn-color-background);\n",
       "  padding-right: 1em;\n",
       "  padding-left: 1em;\n",
       "}\n",
       "\n",
       "\n",
       "/* Toggleable style: style used for estimator/Pipeline/ColumnTransformer box that is\n",
       "clickable and can be expanded/collapsed.\n",
       "- Pipeline and ColumnTransformer use this feature and define the default style\n",
       "- Estimators will overwrite some part of the style using the `sk-estimator` class\n",
       "*/\n",
       "\n",
       "/* Pipeline and ColumnTransformer style (default) */\n",
       "\n",
       "#sk-container-id-1 div.sk-toggleable {\n",
       "  /* Default theme specific background. It is overwritten whether we have a\n",
       "  specific estimator or a Pipeline/ColumnTransformer */\n",
       "  background-color: var(--sklearn-color-background);\n",
       "}\n",
       "\n",
       "/* Toggleable label */\n",
       "#sk-container-id-1 label.sk-toggleable__label {\n",
       "  cursor: pointer;\n",
       "  display: block;\n",
       "  width: 100%;\n",
       "  margin-bottom: 0;\n",
       "  padding: 0.5em;\n",
       "  box-sizing: border-box;\n",
       "  text-align: center;\n",
       "}\n",
       "\n",
       "#sk-container-id-1 label.sk-toggleable__label-arrow:before {\n",
       "  /* Arrow on the left of the label */\n",
       "  content: \"▸\";\n",
       "  float: left;\n",
       "  margin-right: 0.25em;\n",
       "  color: var(--sklearn-color-icon);\n",
       "}\n",
       "\n",
       "#sk-container-id-1 label.sk-toggleable__label-arrow:hover:before {\n",
       "  color: var(--sklearn-color-text);\n",
       "}\n",
       "\n",
       "/* Toggleable content - dropdown */\n",
       "\n",
       "#sk-container-id-1 div.sk-toggleable__content {\n",
       "  max-height: 0;\n",
       "  max-width: 0;\n",
       "  overflow: hidden;\n",
       "  text-align: left;\n",
       "  /* unfitted */\n",
       "  background-color: var(--sklearn-color-unfitted-level-0);\n",
       "}\n",
       "\n",
       "#sk-container-id-1 div.sk-toggleable__content.fitted {\n",
       "  /* fitted */\n",
       "  background-color: var(--sklearn-color-fitted-level-0);\n",
       "}\n",
       "\n",
       "#sk-container-id-1 div.sk-toggleable__content pre {\n",
       "  margin: 0.2em;\n",
       "  border-radius: 0.25em;\n",
       "  color: var(--sklearn-color-text);\n",
       "  /* unfitted */\n",
       "  background-color: var(--sklearn-color-unfitted-level-0);\n",
       "}\n",
       "\n",
       "#sk-container-id-1 div.sk-toggleable__content.fitted pre {\n",
       "  /* unfitted */\n",
       "  background-color: var(--sklearn-color-fitted-level-0);\n",
       "}\n",
       "\n",
       "#sk-container-id-1 input.sk-toggleable__control:checked~div.sk-toggleable__content {\n",
       "  /* Expand drop-down */\n",
       "  max-height: 200px;\n",
       "  max-width: 100%;\n",
       "  overflow: auto;\n",
       "}\n",
       "\n",
       "#sk-container-id-1 input.sk-toggleable__control:checked~label.sk-toggleable__label-arrow:before {\n",
       "  content: \"▾\";\n",
       "}\n",
       "\n",
       "/* Pipeline/ColumnTransformer-specific style */\n",
       "\n",
       "#sk-container-id-1 div.sk-label input.sk-toggleable__control:checked~label.sk-toggleable__label {\n",
       "  color: var(--sklearn-color-text);\n",
       "  background-color: var(--sklearn-color-unfitted-level-2);\n",
       "}\n",
       "\n",
       "#sk-container-id-1 div.sk-label.fitted input.sk-toggleable__control:checked~label.sk-toggleable__label {\n",
       "  background-color: var(--sklearn-color-fitted-level-2);\n",
       "}\n",
       "\n",
       "/* Estimator-specific style */\n",
       "\n",
       "/* Colorize estimator box */\n",
       "#sk-container-id-1 div.sk-estimator input.sk-toggleable__control:checked~label.sk-toggleable__label {\n",
       "  /* unfitted */\n",
       "  background-color: var(--sklearn-color-unfitted-level-2);\n",
       "}\n",
       "\n",
       "#sk-container-id-1 div.sk-estimator.fitted input.sk-toggleable__control:checked~label.sk-toggleable__label {\n",
       "  /* fitted */\n",
       "  background-color: var(--sklearn-color-fitted-level-2);\n",
       "}\n",
       "\n",
       "#sk-container-id-1 div.sk-label label.sk-toggleable__label,\n",
       "#sk-container-id-1 div.sk-label label {\n",
       "  /* The background is the default theme color */\n",
       "  color: var(--sklearn-color-text-on-default-background);\n",
       "}\n",
       "\n",
       "/* On hover, darken the color of the background */\n",
       "#sk-container-id-1 div.sk-label:hover label.sk-toggleable__label {\n",
       "  color: var(--sklearn-color-text);\n",
       "  background-color: var(--sklearn-color-unfitted-level-2);\n",
       "}\n",
       "\n",
       "/* Label box, darken color on hover, fitted */\n",
       "#sk-container-id-1 div.sk-label.fitted:hover label.sk-toggleable__label.fitted {\n",
       "  color: var(--sklearn-color-text);\n",
       "  background-color: var(--sklearn-color-fitted-level-2);\n",
       "}\n",
       "\n",
       "/* Estimator label */\n",
       "\n",
       "#sk-container-id-1 div.sk-label label {\n",
       "  font-family: monospace;\n",
       "  font-weight: bold;\n",
       "  display: inline-block;\n",
       "  line-height: 1.2em;\n",
       "}\n",
       "\n",
       "#sk-container-id-1 div.sk-label-container {\n",
       "  text-align: center;\n",
       "}\n",
       "\n",
       "/* Estimator-specific */\n",
       "#sk-container-id-1 div.sk-estimator {\n",
       "  font-family: monospace;\n",
       "  border: 1px dotted var(--sklearn-color-border-box);\n",
       "  border-radius: 0.25em;\n",
       "  box-sizing: border-box;\n",
       "  margin-bottom: 0.5em;\n",
       "  /* unfitted */\n",
       "  background-color: var(--sklearn-color-unfitted-level-0);\n",
       "}\n",
       "\n",
       "#sk-container-id-1 div.sk-estimator.fitted {\n",
       "  /* fitted */\n",
       "  background-color: var(--sklearn-color-fitted-level-0);\n",
       "}\n",
       "\n",
       "/* on hover */\n",
       "#sk-container-id-1 div.sk-estimator:hover {\n",
       "  /* unfitted */\n",
       "  background-color: var(--sklearn-color-unfitted-level-2);\n",
       "}\n",
       "\n",
       "#sk-container-id-1 div.sk-estimator.fitted:hover {\n",
       "  /* fitted */\n",
       "  background-color: var(--sklearn-color-fitted-level-2);\n",
       "}\n",
       "\n",
       "/* Specification for estimator info (e.g. \"i\" and \"?\") */\n",
       "\n",
       "/* Common style for \"i\" and \"?\" */\n",
       "\n",
       ".sk-estimator-doc-link,\n",
       "a:link.sk-estimator-doc-link,\n",
       "a:visited.sk-estimator-doc-link {\n",
       "  float: right;\n",
       "  font-size: smaller;\n",
       "  line-height: 1em;\n",
       "  font-family: monospace;\n",
       "  background-color: var(--sklearn-color-background);\n",
       "  border-radius: 1em;\n",
       "  height: 1em;\n",
       "  width: 1em;\n",
       "  text-decoration: none !important;\n",
       "  margin-left: 1ex;\n",
       "  /* unfitted */\n",
       "  border: var(--sklearn-color-unfitted-level-1) 1pt solid;\n",
       "  color: var(--sklearn-color-unfitted-level-1);\n",
       "}\n",
       "\n",
       ".sk-estimator-doc-link.fitted,\n",
       "a:link.sk-estimator-doc-link.fitted,\n",
       "a:visited.sk-estimator-doc-link.fitted {\n",
       "  /* fitted */\n",
       "  border: var(--sklearn-color-fitted-level-1) 1pt solid;\n",
       "  color: var(--sklearn-color-fitted-level-1);\n",
       "}\n",
       "\n",
       "/* On hover */\n",
       "div.sk-estimator:hover .sk-estimator-doc-link:hover,\n",
       ".sk-estimator-doc-link:hover,\n",
       "div.sk-label-container:hover .sk-estimator-doc-link:hover,\n",
       ".sk-estimator-doc-link:hover {\n",
       "  /* unfitted */\n",
       "  background-color: var(--sklearn-color-unfitted-level-3);\n",
       "  color: var(--sklearn-color-background);\n",
       "  text-decoration: none;\n",
       "}\n",
       "\n",
       "div.sk-estimator.fitted:hover .sk-estimator-doc-link.fitted:hover,\n",
       ".sk-estimator-doc-link.fitted:hover,\n",
       "div.sk-label-container:hover .sk-estimator-doc-link.fitted:hover,\n",
       ".sk-estimator-doc-link.fitted:hover {\n",
       "  /* fitted */\n",
       "  background-color: var(--sklearn-color-fitted-level-3);\n",
       "  color: var(--sklearn-color-background);\n",
       "  text-decoration: none;\n",
       "}\n",
       "\n",
       "/* Span, style for the box shown on hovering the info icon */\n",
       ".sk-estimator-doc-link span {\n",
       "  display: none;\n",
       "  z-index: 9999;\n",
       "  position: relative;\n",
       "  font-weight: normal;\n",
       "  right: .2ex;\n",
       "  padding: .5ex;\n",
       "  margin: .5ex;\n",
       "  width: min-content;\n",
       "  min-width: 20ex;\n",
       "  max-width: 50ex;\n",
       "  color: var(--sklearn-color-text);\n",
       "  box-shadow: 2pt 2pt 4pt #999;\n",
       "  /* unfitted */\n",
       "  background: var(--sklearn-color-unfitted-level-0);\n",
       "  border: .5pt solid var(--sklearn-color-unfitted-level-3);\n",
       "}\n",
       "\n",
       ".sk-estimator-doc-link.fitted span {\n",
       "  /* fitted */\n",
       "  background: var(--sklearn-color-fitted-level-0);\n",
       "  border: var(--sklearn-color-fitted-level-3);\n",
       "}\n",
       "\n",
       ".sk-estimator-doc-link:hover span {\n",
       "  display: block;\n",
       "}\n",
       "\n",
       "/* \"?\"-specific style due to the `<a>` HTML tag */\n",
       "\n",
       "#sk-container-id-1 a.estimator_doc_link {\n",
       "  float: right;\n",
       "  font-size: 1rem;\n",
       "  line-height: 1em;\n",
       "  font-family: monospace;\n",
       "  background-color: var(--sklearn-color-background);\n",
       "  border-radius: 1rem;\n",
       "  height: 1rem;\n",
       "  width: 1rem;\n",
       "  text-decoration: none;\n",
       "  /* unfitted */\n",
       "  color: var(--sklearn-color-unfitted-level-1);\n",
       "  border: var(--sklearn-color-unfitted-level-1) 1pt solid;\n",
       "}\n",
       "\n",
       "#sk-container-id-1 a.estimator_doc_link.fitted {\n",
       "  /* fitted */\n",
       "  border: var(--sklearn-color-fitted-level-1) 1pt solid;\n",
       "  color: var(--sklearn-color-fitted-level-1);\n",
       "}\n",
       "\n",
       "/* On hover */\n",
       "#sk-container-id-1 a.estimator_doc_link:hover {\n",
       "  /* unfitted */\n",
       "  background-color: var(--sklearn-color-unfitted-level-3);\n",
       "  color: var(--sklearn-color-background);\n",
       "  text-decoration: none;\n",
       "}\n",
       "\n",
       "#sk-container-id-1 a.estimator_doc_link.fitted:hover {\n",
       "  /* fitted */\n",
       "  background-color: var(--sklearn-color-fitted-level-3);\n",
       "}\n",
       "</style><div id=\"sk-container-id-1\" class=\"sk-top-container\"><div class=\"sk-text-repr-fallback\"><pre>RandomForestRegressor()</pre><b>In a Jupyter environment, please rerun this cell to show the HTML representation or trust the notebook. <br />On GitHub, the HTML representation is unable to render, please try loading this page with nbviewer.org.</b></div><div class=\"sk-container\" hidden><div class=\"sk-item\"><div class=\"sk-estimator fitted sk-toggleable\"><input class=\"sk-toggleable__control sk-hidden--visually\" id=\"sk-estimator-id-1\" type=\"checkbox\" checked><label for=\"sk-estimator-id-1\" class=\"sk-toggleable__label fitted sk-toggleable__label-arrow fitted\">&nbsp;&nbsp;RandomForestRegressor<a class=\"sk-estimator-doc-link fitted\" rel=\"noreferrer\" target=\"_blank\" href=\"https://scikit-learn.org/1.5/modules/generated/sklearn.ensemble.RandomForestRegressor.html\">?<span>Documentation for RandomForestRegressor</span></a><span class=\"sk-estimator-doc-link fitted\">i<span>Fitted</span></span></label><div class=\"sk-toggleable__content fitted\"><pre>RandomForestRegressor()</pre></div> </div></div></div></div>"
      ],
      "text/plain": [
       "RandomForestRegressor()"
      ]
     },
     "execution_count": 32,
     "metadata": {},
     "output_type": "execute_result"
    }
   ],
   "source": [
    "model=RandomForestRegressor()\n",
    "#why using RandomForestRegressor(can handle non-linear data and perform well even when relationships between variables are complex.)\n",
    "model.fit(x_train,y_train)"
   ]
  },
  {
   "cell_type": "code",
   "execution_count": 33,
   "metadata": {},
   "outputs": [
    {
     "data": {
      "text/html": [
       "<div>\n",
       "<style scoped>\n",
       "    .dataframe tbody tr th:only-of-type {\n",
       "        vertical-align: middle;\n",
       "    }\n",
       "\n",
       "    .dataframe tbody tr th {\n",
       "        vertical-align: top;\n",
       "    }\n",
       "\n",
       "    .dataframe thead th {\n",
       "        text-align: right;\n",
       "    }\n",
       "</style>\n",
       "<table border=\"1\" class=\"dataframe\">\n",
       "  <thead>\n",
       "    <tr style=\"text-align: right;\">\n",
       "      <th></th>\n",
       "      <th>car_engine_hp</th>\n",
       "      <th>car_mileage</th>\n",
       "      <th>car_age</th>\n",
       "      <th>car_country</th>\n",
       "      <th>car_drive</th>\n",
       "    </tr>\n",
       "  </thead>\n",
       "  <tbody>\n",
       "    <tr>\n",
       "      <th>6</th>\n",
       "      <td>146</td>\n",
       "      <td>68023</td>\n",
       "      <td>9</td>\n",
       "      <td>7</td>\n",
       "      <td>1</td>\n",
       "    </tr>\n",
       "    <tr>\n",
       "      <th>8</th>\n",
       "      <td>105</td>\n",
       "      <td>250000</td>\n",
       "      <td>22</td>\n",
       "      <td>7</td>\n",
       "      <td>1</td>\n",
       "    </tr>\n",
       "    <tr>\n",
       "      <th>9</th>\n",
       "      <td>123</td>\n",
       "      <td>40000</td>\n",
       "      <td>5</td>\n",
       "      <td>8</td>\n",
       "      <td>1</td>\n",
       "    </tr>\n",
       "    <tr>\n",
       "      <th>10</th>\n",
       "      <td>186</td>\n",
       "      <td>8300</td>\n",
       "      <td>3</td>\n",
       "      <td>8</td>\n",
       "      <td>0</td>\n",
       "    </tr>\n",
       "    <tr>\n",
       "      <th>11</th>\n",
       "      <td>140</td>\n",
       "      <td>299000</td>\n",
       "      <td>19</td>\n",
       "      <td>8</td>\n",
       "      <td>1</td>\n",
       "    </tr>\n",
       "    <tr>\n",
       "      <th>...</th>\n",
       "      <td>...</td>\n",
       "      <td>...</td>\n",
       "      <td>...</td>\n",
       "      <td>...</td>\n",
       "      <td>...</td>\n",
       "    </tr>\n",
       "    <tr>\n",
       "      <th>42083</th>\n",
       "      <td>99</td>\n",
       "      <td>70000</td>\n",
       "      <td>10</td>\n",
       "      <td>7</td>\n",
       "      <td>1</td>\n",
       "    </tr>\n",
       "    <tr>\n",
       "      <th>42084</th>\n",
       "      <td>125</td>\n",
       "      <td>183212</td>\n",
       "      <td>30</td>\n",
       "      <td>7</td>\n",
       "      <td>0</td>\n",
       "    </tr>\n",
       "    <tr>\n",
       "      <th>42085</th>\n",
       "      <td>110</td>\n",
       "      <td>110000</td>\n",
       "      <td>13</td>\n",
       "      <td>7</td>\n",
       "      <td>1</td>\n",
       "    </tr>\n",
       "    <tr>\n",
       "      <th>42086</th>\n",
       "      <td>109</td>\n",
       "      <td>153000</td>\n",
       "      <td>13</td>\n",
       "      <td>7</td>\n",
       "      <td>0</td>\n",
       "    </tr>\n",
       "    <tr>\n",
       "      <th>42087</th>\n",
       "      <td>129</td>\n",
       "      <td>190000</td>\n",
       "      <td>23</td>\n",
       "      <td>7</td>\n",
       "      <td>0</td>\n",
       "    </tr>\n",
       "  </tbody>\n",
       "</table>\n",
       "<p>21353 rows × 5 columns</p>\n",
       "</div>"
      ],
      "text/plain": [
       "       car_engine_hp  car_mileage  car_age  car_country  car_drive\n",
       "6                146        68023        9            7          1\n",
       "8                105       250000       22            7          1\n",
       "9                123        40000        5            8          1\n",
       "10               186         8300        3            8          0\n",
       "11               140       299000       19            8          1\n",
       "...              ...          ...      ...          ...        ...\n",
       "42083             99        70000       10            7          1\n",
       "42084            125       183212       30            7          0\n",
       "42085            110       110000       13            7          1\n",
       "42086            109       153000       13            7          0\n",
       "42087            129       190000       23            7          0\n",
       "\n",
       "[21353 rows x 5 columns]"
      ]
     },
     "execution_count": 33,
     "metadata": {},
     "output_type": "execute_result"
    }
   ],
   "source": [
    "x\n"
   ]
  },
  {
   "cell_type": "code",
   "execution_count": 102,
   "metadata": {
    "colab": {
     "base_uri": "https://localhost:8080/"
    },
    "executionInfo": {
     "elapsed": 13,
     "status": "ok",
     "timestamp": 1730700503668,
     "user": {
      "displayName": "Muhammed Afnan",
      "userId": "02362605953525826732"
     },
     "user_tz": -330
    },
    "id": "hwZ4NOwAezWG",
    "outputId": "04c1b34a-0d1f-46ce-9fbf-1cb36064c7ca"
   },
   "outputs": [
    {
     "data": {
      "text/plain": [
       "array([14.6428773 , 13.86325787, 14.948166  , ..., 14.07154948,\n",
       "       13.4859643 , 13.85436479])"
      ]
     },
     "execution_count": 102,
     "metadata": {},
     "output_type": "execute_result"
    }
   ],
   "source": [
    "y_pred=model.predict(x_test)\n",
    "y_pred"
   ]
  },
  {
   "cell_type": "code",
   "execution_count": 103,
   "metadata": {
    "colab": {
     "base_uri": "https://localhost:8080/"
    },
    "executionInfo": {
     "elapsed": 12,
     "status": "ok",
     "timestamp": 1730700503668,
     "user": {
      "displayName": "Muhammed Afnan",
      "userId": "02362605953525826732"
     },
     "user_tz": -330
    },
    "id": "B0l__6F2e2c3",
    "outputId": "8ce7a300-5351-461a-d37e-4b9740966e46"
   },
   "outputs": [
    {
     "name": "stdout",
     "output_type": "stream",
     "text": [
      "root mean squared error: 0.23681536736154649\n",
      "mean squared error: 0.05608151821858422\n",
      "mean absolute error: 0.16579838819342066\n",
      "r2 score: 0.8639626511251874\n"
     ]
    }
   ],
   "source": [
    "mse=mean_squared_error(y_test,y_pred)#An indicator of average squared prediction error.\n",
    "mae=mean_absolute_error(y_test,y_pred)#An indicator of average absolute prediction error\n",
    "rmse=root_mean_squared_error(y_test,y_pred)#An indicator of average squared prediction error.\n",
    "r2=r2_score(y_test,y_pred)#An indicator of the model’s fit quality.\n",
    "print('root mean squared error:',rmse)\n",
    "print('mean squared error:',mse)\n",
    "print('mean absolute error:',mae)\n",
    "print('r2 score:',r2)"
   ]
  },
  {
   "cell_type": "code",
   "execution_count": 117,
   "metadata": {},
   "outputs": [
    {
     "data": {
      "text/html": [
       "<div>\n",
       "<style scoped>\n",
       "    .dataframe tbody tr th:only-of-type {\n",
       "        vertical-align: middle;\n",
       "    }\n",
       "\n",
       "    .dataframe tbody tr th {\n",
       "        vertical-align: top;\n",
       "    }\n",
       "\n",
       "    .dataframe thead th {\n",
       "        text-align: right;\n",
       "    }\n",
       "</style>\n",
       "<table border=\"1\" class=\"dataframe\">\n",
       "  <thead>\n",
       "    <tr style=\"text-align: right;\">\n",
       "      <th></th>\n",
       "      <th>car_price</th>\n",
       "      <th>car_drive</th>\n",
       "      <th>car_mileage</th>\n",
       "      <th>car_country</th>\n",
       "      <th>car_engine_hp</th>\n",
       "      <th>car_age</th>\n",
       "    </tr>\n",
       "  </thead>\n",
       "  <tbody>\n",
       "    <tr>\n",
       "      <th>3</th>\n",
       "      <td>15.250595</td>\n",
       "      <td>0.693147</td>\n",
       "      <td>10.308986</td>\n",
       "      <td>2.079442</td>\n",
       "      <td>5.521461</td>\n",
       "      <td>1.098612</td>\n",
       "    </tr>\n",
       "    <tr>\n",
       "      <th>6</th>\n",
       "      <td>14.747281</td>\n",
       "      <td>0.693147</td>\n",
       "      <td>11.127616</td>\n",
       "      <td>2.079442</td>\n",
       "      <td>4.990433</td>\n",
       "      <td>2.302585</td>\n",
       "    </tr>\n",
       "    <tr>\n",
       "      <th>8</th>\n",
       "      <td>13.028055</td>\n",
       "      <td>0.693147</td>\n",
       "      <td>12.429220</td>\n",
       "      <td>2.079442</td>\n",
       "      <td>4.663439</td>\n",
       "      <td>3.135494</td>\n",
       "    </tr>\n",
       "    <tr>\n",
       "      <th>9</th>\n",
       "      <td>14.483340</td>\n",
       "      <td>0.693147</td>\n",
       "      <td>10.596660</td>\n",
       "      <td>2.197225</td>\n",
       "      <td>4.820282</td>\n",
       "      <td>1.791759</td>\n",
       "    </tr>\n",
       "    <tr>\n",
       "      <th>11</th>\n",
       "      <td>13.629182</td>\n",
       "      <td>0.693147</td>\n",
       "      <td>12.608202</td>\n",
       "      <td>2.197225</td>\n",
       "      <td>4.948760</td>\n",
       "      <td>2.995732</td>\n",
       "    </tr>\n",
       "    <tr>\n",
       "      <th>...</th>\n",
       "      <td>...</td>\n",
       "      <td>...</td>\n",
       "      <td>...</td>\n",
       "      <td>...</td>\n",
       "      <td>...</td>\n",
       "      <td>...</td>\n",
       "    </tr>\n",
       "    <tr>\n",
       "      <th>42083</th>\n",
       "      <td>14.557448</td>\n",
       "      <td>0.693147</td>\n",
       "      <td>11.156265</td>\n",
       "      <td>2.079442</td>\n",
       "      <td>4.605170</td>\n",
       "      <td>2.397895</td>\n",
       "    </tr>\n",
       "    <tr>\n",
       "      <th>42084</th>\n",
       "      <td>13.017005</td>\n",
       "      <td>0.000000</td>\n",
       "      <td>12.118405</td>\n",
       "      <td>2.079442</td>\n",
       "      <td>4.836282</td>\n",
       "      <td>3.433987</td>\n",
       "    </tr>\n",
       "    <tr>\n",
       "      <th>42085</th>\n",
       "      <td>13.384729</td>\n",
       "      <td>0.693147</td>\n",
       "      <td>11.608245</td>\n",
       "      <td>2.079442</td>\n",
       "      <td>4.709530</td>\n",
       "      <td>2.639057</td>\n",
       "    </tr>\n",
       "    <tr>\n",
       "      <th>42086</th>\n",
       "      <td>14.115616</td>\n",
       "      <td>0.000000</td>\n",
       "      <td>11.938200</td>\n",
       "      <td>2.079442</td>\n",
       "      <td>4.700480</td>\n",
       "      <td>2.639057</td>\n",
       "    </tr>\n",
       "    <tr>\n",
       "      <th>42087</th>\n",
       "      <td>13.217675</td>\n",
       "      <td>0.000000</td>\n",
       "      <td>12.154785</td>\n",
       "      <td>2.079442</td>\n",
       "      <td>4.867534</td>\n",
       "      <td>3.178054</td>\n",
       "    </tr>\n",
       "  </tbody>\n",
       "</table>\n",
       "<p>22096 rows × 6 columns</p>\n",
       "</div>"
      ],
      "text/plain": [
       "       car_price  car_drive  car_mileage  car_country  car_engine_hp   car_age\n",
       "3      15.250595   0.693147    10.308986     2.079442       5.521461  1.098612\n",
       "6      14.747281   0.693147    11.127616     2.079442       4.990433  2.302585\n",
       "8      13.028055   0.693147    12.429220     2.079442       4.663439  3.135494\n",
       "9      14.483340   0.693147    10.596660     2.197225       4.820282  1.791759\n",
       "11     13.629182   0.693147    12.608202     2.197225       4.948760  2.995732\n",
       "...          ...        ...          ...          ...            ...       ...\n",
       "42083  14.557448   0.693147    11.156265     2.079442       4.605170  2.397895\n",
       "42084  13.017005   0.000000    12.118405     2.079442       4.836282  3.433987\n",
       "42085  13.384729   0.693147    11.608245     2.079442       4.709530  2.639057\n",
       "42086  14.115616   0.000000    11.938200     2.079442       4.700480  2.639057\n",
       "42087  13.217675   0.000000    12.154785     2.079442       4.867534  3.178054\n",
       "\n",
       "[22096 rows x 6 columns]"
      ]
     },
     "execution_count": 117,
     "metadata": {},
     "output_type": "execute_result"
    }
   ],
   "source": [
    "df"
   ]
  },
  {
   "cell_type": "code",
   "execution_count": 104,
   "metadata": {
    "colab": {
     "base_uri": "https://localhost:8080/",
     "height": 206
    },
    "executionInfo": {
     "elapsed": 10,
     "status": "ok",
     "timestamp": 1730700503668,
     "user": {
      "displayName": "Muhammed Afnan",
      "userId": "02362605953525826732"
     },
     "user_tz": -330
    },
    "id": "aXkc2P4O6MWK",
    "outputId": "05e54180-41ec-4607-f4a0-0b7bedd41834"
   },
   "outputs": [
    {
     "data": {
      "text/html": [
       "<div>\n",
       "<style scoped>\n",
       "    .dataframe tbody tr th:only-of-type {\n",
       "        vertical-align: middle;\n",
       "    }\n",
       "\n",
       "    .dataframe tbody tr th {\n",
       "        vertical-align: top;\n",
       "    }\n",
       "\n",
       "    .dataframe thead th {\n",
       "        text-align: right;\n",
       "    }\n",
       "</style>\n",
       "<table border=\"1\" class=\"dataframe\">\n",
       "  <thead>\n",
       "    <tr style=\"text-align: right;\">\n",
       "      <th></th>\n",
       "      <th>car_price</th>\n",
       "      <th>car_drive</th>\n",
       "      <th>car_mileage</th>\n",
       "      <th>car_country</th>\n",
       "      <th>car_engine_hp</th>\n",
       "      <th>car_age</th>\n",
       "    </tr>\n",
       "  </thead>\n",
       "  <tbody>\n",
       "    <tr>\n",
       "      <th>3</th>\n",
       "      <td>15.250595</td>\n",
       "      <td>0.693147</td>\n",
       "      <td>10.308986</td>\n",
       "      <td>2.079442</td>\n",
       "      <td>5.521461</td>\n",
       "      <td>1.098612</td>\n",
       "    </tr>\n",
       "    <tr>\n",
       "      <th>6</th>\n",
       "      <td>14.747281</td>\n",
       "      <td>0.693147</td>\n",
       "      <td>11.127616</td>\n",
       "      <td>2.079442</td>\n",
       "      <td>4.990433</td>\n",
       "      <td>2.302585</td>\n",
       "    </tr>\n",
       "    <tr>\n",
       "      <th>8</th>\n",
       "      <td>13.028055</td>\n",
       "      <td>0.693147</td>\n",
       "      <td>12.429220</td>\n",
       "      <td>2.079442</td>\n",
       "      <td>4.663439</td>\n",
       "      <td>3.135494</td>\n",
       "    </tr>\n",
       "    <tr>\n",
       "      <th>9</th>\n",
       "      <td>14.483340</td>\n",
       "      <td>0.693147</td>\n",
       "      <td>10.596660</td>\n",
       "      <td>2.197225</td>\n",
       "      <td>4.820282</td>\n",
       "      <td>1.791759</td>\n",
       "    </tr>\n",
       "    <tr>\n",
       "      <th>11</th>\n",
       "      <td>13.629182</td>\n",
       "      <td>0.693147</td>\n",
       "      <td>12.608202</td>\n",
       "      <td>2.197225</td>\n",
       "      <td>4.948760</td>\n",
       "      <td>2.995732</td>\n",
       "    </tr>\n",
       "  </tbody>\n",
       "</table>\n",
       "</div>"
      ],
      "text/plain": [
       "    car_price  car_drive  car_mileage  car_country  car_engine_hp   car_age\n",
       "3   15.250595   0.693147    10.308986     2.079442       5.521461  1.098612\n",
       "6   14.747281   0.693147    11.127616     2.079442       4.990433  2.302585\n",
       "8   13.028055   0.693147    12.429220     2.079442       4.663439  3.135494\n",
       "9   14.483340   0.693147    10.596660     2.197225       4.820282  1.791759\n",
       "11  13.629182   0.693147    12.608202     2.197225       4.948760  2.995732"
      ]
     },
     "execution_count": 104,
     "metadata": {},
     "output_type": "execute_result"
    }
   ],
   "source": [
    "df.head(5)"
   ]
  },
  {
   "cell_type": "code",
   "execution_count": null,
   "metadata": {
    "colab": {
     "base_uri": "https://localhost:8080/"
    },
    "executionInfo": {
     "elapsed": 31897,
     "status": "ok",
     "timestamp": 1730700564089,
     "user": {
      "displayName": "Muhammed Afnan",
      "userId": "02362605953525826732"
     },
     "user_tz": -330
    },
    "id": "O0bfEpJw6KHR",
    "outputId": "428b7308-aca6-4db1-86fa-ef28fdf218f9"
   },
   "outputs": [
    {
     "name": "stdout",
     "output_type": "stream",
     "text": [
      "The actual car price is: ₹643,128\n"
     ]
    },
    {
     "name": "stderr",
     "output_type": "stream",
     "text": [
      "c:\\Users\\DELL\\anaconda3\\Lib\\site-packages\\sklearn\\base.py:493: UserWarning: X does not have valid feature names, but RandomForestRegressor was fitted with feature names\n",
      "  warnings.warn(\n"
     ]
    }
   ],
   "source": [
    "car_drive=float(input('enter the car_drive:'))\n",
    "car_mileage=float(input('enter the car_mileage:'))\n",
    "car_country=float(input('enter the car_country:'))\n",
    "car_engine_capacity=float(input('enter the car_engine_capacity:'))\n",
    "car_age=float(input('enter the car_age:'))\n",
    "user_input=np.array([[car_drive,car_mileage,car_country,car_engine_capacity,car_age]])\n",
    "predicted_AQI=model.predict(user_input)\n",
    "\n",
    "# Convert predicted logarithmic prices to actual prices\n",
    "actual_prices = np.exp(predicted_AQI)\n",
    "\n",
    "# Formatting each element of the array\n",
    "formatted_prices = [f\"{int(price):,}\" for price in actual_prices]\n",
    "\n",
    "# Converting each formatted price to a string\n",
    "string_prices = [str(price) for price in formatted_prices]\n",
    "\n",
    "# Printing string prices\n",
    "for price in string_prices:\n",
    "    print(f\"The actual car price is: ₹{price}\")\n",
    "\n"
   ]
  },
  {
   "cell_type": "code",
   "execution_count": 115,
   "metadata": {},
   "outputs": [
    {
     "name": "stdout",
     "output_type": "stream",
     "text": [
      "643128\n"
     ]
    },
    {
     "name": "stderr",
     "output_type": "stream",
     "text": [
      "C:\\Users\\DELL\\AppData\\Local\\Temp\\ipykernel_12120\\825425115.py:1: DeprecationWarning: Conversion of an array with ndim > 0 to a scalar is deprecated, and will error in future. Ensure you extract a single element from your array before performing this operation. (Deprecated NumPy 1.25.)\n",
      "  n=int(actual_prices)\n"
     ]
    }
   ],
   "source": [
    "print(formatted_prices)"
   ]
  },
  {
   "cell_type": "code",
   "execution_count": 92,
   "metadata": {
    "id": "IgjpfWHi5zqi"
   },
   "outputs": [
    {
     "data": {
      "image/png": "[encoded data removed]",
      "text/plain": [
       "<Figure size 640x480 with 1 Axes>"
      ]
     },
     "metadata": {},
     "output_type": "display_data"
    }
   ],
   "source": [
    "sns.regplot(x=y_test,y=y_pred)\n",
    "plt.xlabel('actual price')\n",
    "plt.ylabel('predicted price')\n",
    "plt.title('actual vs predicted price')\n",
    "plt.show()"
   ]
  },
  {
   "cell_type": "markdown",
   "metadata": {
    "id": "FmRIxX6wKkix"
   },
   "source": [
    "#**PROJECT REPORT**\n"
   ]
  },
  {
   "cell_type": "markdown",
   "metadata": {
    "id": "-a1Toqe0KtwG"
   },
   "source": [
    "##**Car Price Prediction Model**\n",
    "\n",
    "\n",
    "---\n",
    "\n",
    "**Submitted by**:[Muhammed Afnan N]\n",
    "\n",
    "**Date**:[1/11/24]\n",
    "\n",
    "**Organization/Institution**:[Learn Logic AI]\n",
    "\n",
    "\n",
    "\n",
    "---\n",
    "\n",
    "\n",
    "### **1. Introduction**\n",
    "Predicting car prices is essential in today’s data-driven marketplace, providing insights for both buyers and sellers. This project uses a RandomForestRegressor model to predict car prices based on key attributes from the dataset `car_data.csv`. Through systematic data preprocessing, visualization, and model evaluation, we aim to develop an accurate, reliable model.\n",
    "\n",
    "\n",
    "---\n",
    "\n",
    "\n",
    "### **2. Data Analysis and Preprocessing**\n",
    "\n",
    "#### 2.1 Data Inspection\n",
    "   - **Dataset Overview**: After loading `car_data.csv`, we checked the dataset shape, identified duplicates, and examined for null values. The initial dataset included multiple car attributes across various cities, brands, and models.\n",
    "   - **Feature Cleanup**: Removed the `Unnamed: 0` column, which was irrelevant to the analysis.\n",
    "\n",
    "#### 2.2 Descriptive Analysis\n",
    "   - **Statistical Summary**: Calculated summary statistics (mean, median, min, max) for each feature to understand the distribution and variance across data.\n",
    "   - **Feature Types and Distribution**: Identified categorical and numerical features. A histogram of `car_price` displayed a right-skewed distribution, motivating further treatment for skewness.\n",
    "---\n",
    "### **3. Data Visualization**\n",
    "\n",
    "#### 3.1 Target and Feature Distributions**\n",
    "   - **Target Variable**: A histogram with KDE for `car_price` revealed significant skewness. Other features were visualized through histograms, indicating various distributions.\n",
    "   - **Correlation Analysis**: Generated a correlation heatmap to examine relationships between features and `car_price`. Redundant and weakly correlated features such as `car_model` and `car_brand` were dropped to streamline the model.\n",
    "\n",
    "#### 3.2 Outlier Detection and Treatment\n",
    "   - **Outlier Visualization**: Box plots indicated outliers in several features.\n",
    "   - **Log Transformation**: Applied log transformation to reduce skewness in continuous features. Log-transformed distributions confirmed improved symmetry.\n",
    "   - **IQR-Based Outlier Removal**: Defined an IQR function to filter outliers, specifically in the independent features, to maintain robustness in training.\n",
    "---\n",
    "### **4. Encoding Categorical Variables**\n",
    "\n",
    "#### Label Encoding:\n",
    "   - Encoded categorical features (`car_city`, `car_brand`, `car_fuel`, etc.) to convert them into numerical values. This was essential for modeling, as the RandomForestRegressor cannot directly handle categorical data.\n",
    "---\n",
    "### **5. Model Building and Evaluation**\n",
    "\n",
    "#### 5.1 Feature Selection and Data Split\n",
    "   - **Feature Selection**: Retained the most correlated features: `car_engine_capacity`, `car_mileage`, `car_age`, `car_country`, and `car_drive`.\n",
    "   - **Train-Test Split**: Divided the dataset into training and test sets (80% for training and 20% for testing). This allocation ensures the model is evaluated on unseen data for a realistic performance assessment.\n",
    "\n",
    "#### 5.2 Model Choice and Training\n",
    "   - **Model Selection**: The RandomForestRegressor was selected due to its ability to handle non-linear relationships and prevent overfitting by averaging multiple decision trees.\n",
    "   - **Model Training**: Trained the model on the processed training dataset. Key hyperparameters such as the number of trees and max depth were left at default values for initial evaluation.\n",
    "\n",
    "#### 5.3 Model Evaluation\n",
    "   - **Performance Metrics**: Evaluated the model on the test data using:\n",
    "     - **Mean Squared Error (MSE)**: Measures the average squared difference between actual and predicted values.\n",
    "     - **Mean Absolute Error (MAE)**: Calculates the average absolute errors.\n",
    "     - **R-squared (R²)**: Indicates the proportion of variance explained by the model.\n",
    "\n",
    "##### 5.4Results\n",
    "   - The model achieved reasonable MSE, MAE, and R² scores, suggesting a good fit, though potential improvements remain in hyperparameter tuning and feature engineering.\n",
    "---\n",
    "### **6. Prediction Interface**\n",
    "\n",
    "The notebook included a user-friendly interface allowing users to input car attributes to obtain price predictions. This interface enhances the practical application, allowing real-time predictions based on new inputs.\n",
    "\n",
    "---\n",
    "\n",
    "### **7. Conclusion and Future Work**\n",
    "---\n",
    "The RandomForestRegressor performed satisfactorily in predicting car prices based on selected features. Future improvements could include:\n",
    "   - **Hyperparameter Optimization**: Fine-tuning parameters like `n_estimators` and `max_depth` for optimal performance.\n",
    "   - **Feature Engineering**: Adding relevant features or engineering new ones, such as car depreciation rates.\n",
    "   - **Ensemble Models**: Exploring additional ensemble methods, such as gradient boosting, could improve model accuracy.\n",
    "\n",
    "This project showcases the effectiveness of machine learning in predictive analysis and highlights areas for further refinement.\n",
    "\n",
    "---\n",
    "### **10.References**\n",
    "1.Used Cars Dataset by Austin Reese\n",
    "\n",
    "2.Kaggle\n",
    "\n",
    "3.ChatGPT\n",
    "\n",
    "4.Gemini\n",
    "\n"
   ]
  }
 ],
 "metadata": {
  "colab": {
   "authorship_tag": "ABX9TyON1bi1PB/WEZ37BlaeHTg4",
   "provenance": []
  },
  "kernelspec": {
   "display_name": "base",
   "language": "python",
   "name": "python3"
  },
  "language_info": {
   "codemirror_mode": {
    "name": "ipython",
    "version": 3
   },
   "file_extension": ".py",
   "mimetype": "text/x-python",
   "name": "python",
   "nbconvert_exporter": "python",
   "pygments_lexer": "ipython3",
   "version": "3.12.7"
  }
 },
 "nbformat": 4,
 "nbformat_minor": 0
}
